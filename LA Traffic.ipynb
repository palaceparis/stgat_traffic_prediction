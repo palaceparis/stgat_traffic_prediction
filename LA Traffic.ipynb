{
 "cells": [
  {
   "cell_type": "markdown",
   "id": "71af53f3-af13-4676-b24e-4c06b39c9c67",
   "metadata": {},
   "source": [
    "# Installation and Setup"
   ]
  },
  {
   "cell_type": "code",
   "execution_count": 10,
   "id": "ced5e735-b4d4-48a2-ad59-781b93047c60",
   "metadata": {},
   "outputs": [
    {
     "name": "stdout",
     "output_type": "stream",
     "text": [
      "Using cpu\n"
     ]
    }
   ],
   "source": [
    "import torch\n",
    "device = 'cuda' if torch.cuda.is_available() else 'cpu'\n",
    "print(f\"Using {device}\")"
   ]
  },
  {
   "cell_type": "markdown",
   "id": "d4fd1071-ef14-4d89-b44d-cf6d17abf201",
   "metadata": {},
   "source": [
    "# Create a dataloader"
   ]
  },
  {
   "cell_type": "code",
   "execution_count": 11,
   "id": "0831bfa6-d998-4ae1-92a3-9b677ec5b482",
   "metadata": {},
   "outputs": [],
   "source": [
    "import torch\n",
    "import numpy as np\n",
    "import pandas as pd\n",
    "import os\n",
    "from torch_geometric.data import InMemoryDataset, Data\n",
    "from shutil import copyfile\n",
    "\n",
    "\n",
    "def distance_to_weight(W, sigma2=0.1, epsilon=0.5, gat_version=False):\n",
    "    \"\"\"\"\n",
    "    Given distances between all nodes, convert into a weight matrix\n",
    "    :param W distances\n",
    "    :param sigma2 User configurable parameter to adjust sparsity of matrix\n",
    "    :param epsilon User configurable parameter to adjust sparsity of matrix\n",
    "    :param gat_version If true, use 0/1 weights with self loops. Otherwise, use float\n",
    "    \"\"\"\n",
    "    n = W.shape[0]\n",
    "    W = W / 10000.\n",
    "    W2, W_mask = W * W, np.ones([n, n]) - np.identity(n)\n",
    "    # refer to Eq.10\n",
    "    W = np.exp(-W2 / sigma2) * (np.exp(-W2 / sigma2) >= epsilon) * W_mask\n",
    "\n",
    "    # If using the gat version of this, round to 0/1 and include self loops\n",
    "    if gat_version:\n",
    "        W[W>0] = 1\n",
    "        W += np.identity(n)\n",
    "\n",
    "\n",
    "    return W\n",
    "\n",
    "class TrafficDataset(InMemoryDataset):\n",
    "    \"\"\"\n",
    "    Dataset for Graph Neural Networks.\n",
    "    \"\"\"\n",
    "    def __init__(self, config, W, root='', transform=None, pre_transform=None):\n",
    "        self.config = config\n",
    "        self.W = W\n",
    "        super().__init__(root, transform, pre_transform)\n",
    "        self.data, self.slices, self.n_node, self.mean, self.std_dev = torch.load(self.processed_paths[0])\n",
    "\n",
    "    @property\n",
    "    def raw_file_names(self):\n",
    "        return [os.path.join(self.raw_dir, 'PeMSD7_V_228.csv')]\n",
    "\n",
    "    @property\n",
    "    def processed_file_names(self):\n",
    "        return ['./data.pt']\n",
    "\n",
    "    def download(self):\n",
    "        copyfile('./dataset/PeMSD7_V_228.csv', os.path.join(self.raw_dir, 'PeMSD7_V_228.csv'))\n",
    "\n",
    "    def process(self):\n",
    "        \"\"\"\n",
    "        Process the raw datasets into saved .pt dataset for later use.\n",
    "        Note that any self.fields here wont exist if loading straight from the .pt file\n",
    "        \"\"\"\n",
    "        # Data Preprocessing and loading\n",
    "        data = pd.read_csv(self.raw_file_names[0], header=None).values\n",
    "        # Technically using the validation and test datasets here, but it's fine, would normally get the\n",
    "        # mean and std_dev from a large dataset\n",
    "        mean =  np.mean(data)\n",
    "        std_dev = np.std(data)\n",
    "        data = z_score(data, np.mean(data), np.std(data))\n",
    "        \n",
    "        _, n_node = data.shape\n",
    "        n_window = self.config['N_PRED'] + self.config['N_HIST']\n",
    "\n",
    "        # manipulate nxn matrix into 2xnum_edges\n",
    "        edge_index = torch.zeros((2, n_node**2), dtype=torch.long)\n",
    "        # create an edge_attr matrix with our weights  (num_edges x 1) --> our edge features are dim 1\n",
    "        edge_attr = torch.zeros((n_node**2, 1))\n",
    "        num_edges = 0\n",
    "        for i in range(n_node):\n",
    "            for j in range(n_node):\n",
    "                if self.W[i, j] != 0.:\n",
    "                    edge_index[0, num_edges] = i\n",
    "                    edge_index[1, num_edges] = j\n",
    "                    edge_attr[num_edges] = self.W[i, j]\n",
    "                    num_edges += 1\n",
    "\n",
    "        # using resize_ to just keep the first num_edges entries\n",
    "        edge_index = edge_index.resize_(2, num_edges)\n",
    "        edge_attr = edge_attr.resize_(num_edges, 1)\n",
    "\n",
    "        sequences = []\n",
    "        # T x F x N\n",
    "        for i in range(self.config['N_DAYS']):\n",
    "            for j in range(self.config['N_SLOT']):\n",
    "                # for each time point construct a different graph with data object\n",
    "                # Docs here: https://pytorch-geometric.readthedocs.io/en/latest/modules/data.html#torch_geometric.data.Data\n",
    "                g = Data()\n",
    "                g.__num_nodes__ = n_node\n",
    "\n",
    "                g.edge_index = edge_index\n",
    "                g.edge_attr  = edge_attr\n",
    "\n",
    "                # (F,N) switched to (N,F)\n",
    "                sta = i * self.config['N_DAY_SLOT'] + j\n",
    "                end = sta + n_window\n",
    "                # [21, 228]\n",
    "                full_window = np.swapaxes(data[sta:end, :], 0, 1)\n",
    "                g.x = torch.FloatTensor(full_window[:, 0:self.config['N_HIST']])\n",
    "                g.y = torch.FloatTensor(full_window[:, self.config['N_HIST']::])\n",
    "                sequences += [g]\n",
    "\n",
    "        # Make the actual dataset\n",
    "        data, slices = self.collate(sequences)\n",
    "\n",
    "        torch.save((data, slices, n_node, mean, std_dev), self.processed_paths[0])\n",
    "\n",
    "def get_splits(dataset: TrafficDataset, n_slot, splits):\n",
    "    \"\"\"\n",
    "    Given the data, split it into random subsets of train, val, and test as given by splits\n",
    "    :param dataset: TrafficDataset object to split\n",
    "    :param n_slot: Number of possible sliding windows in a day\n",
    "    :param splits: (train, val, test) ratios\n",
    "    \"\"\"\n",
    "    split_train, split_val, _ = splits\n",
    "    i = n_slot*split_train\n",
    "    j = n_slot*split_val\n",
    "    train = dataset[:i]\n",
    "    val = dataset[i:i+j]\n",
    "    test = dataset[i+j:]\n",
    "\n",
    "    return train, val, test"
   ]
  },
  {
   "cell_type": "markdown",
   "id": "7a8b1c66-3e66-4e67-98a7-1b0a848f5489",
   "metadata": {},
   "source": [
    "# Build the model"
   ]
  },
  {
   "cell_type": "code",
   "execution_count": 23,
   "id": "b9c2c429-ba12-4dec-97b0-5e28c0d63270",
   "metadata": {
    "tags": []
   },
   "outputs": [],
   "source": [
    "import torch\n",
    "import torch.nn.functional as F\n",
    "from torch_geometric.nn import GATConv\n",
    "class ST_GAT(torch.nn.Module):\n",
    "    \"\"\"\n",
    "    Spatio-Temporal Graph Attention Network as presented in https://ieeexplore.ieee.org/document/8903252\n",
    "    \"\"\"\n",
    "    def __init__(self, in_channels, out_channels, n_nodes, heads=8, dropout=0.0):\n",
    "        \"\"\"\n",
    "        Initialize the ST-GAT model\n",
    "        :param in_channels Number of input channels\n",
    "        :param out_channels Number of output channels\n",
    "        :param n_nodes Number of nodes in the graph\n",
    "        :param heads Number of attention heads to use in graph\n",
    "        :param dropout Dropout probability on output of Graph Attention Network\n",
    "        \"\"\"\n",
    "        super(ST_GAT, self).__init__()\n",
    "        self.n_pred = out_channels\n",
    "        self.heads = heads\n",
    "        self.dropout = dropout\n",
    "        self.n_nodes = n_nodes\n",
    "\n",
    "        self.n_preds = 9\n",
    "        lstm1_hidden_size = 32\n",
    "        lstm2_hidden_size = 128\n",
    "\n",
    "        # single graph attentional layer with 8 attention heads\n",
    "        self.gat = GATConv(in_channels=in_channels, out_channels=in_channels,\n",
    "            heads=heads, dropout=0, concat=False)\n",
    "\n",
    "        # add two LSTM layers\n",
    "        self.lstm1 = torch.nn.LSTM(input_size=self.n_nodes, hidden_size=lstm1_hidden_size, num_layers=1)\n",
    "        for name, param in self.lstm1.named_parameters():\n",
    "            if 'bias' in name:\n",
    "                torch.nn.init.constant_(param, 0.0)\n",
    "            elif 'weight' in name:\n",
    "                torch.nn.init.xavier_uniform_(param)\n",
    "        self.lstm2 = torch.nn.LSTM(input_size=lstm1_hidden_size, hidden_size=lstm2_hidden_size, num_layers=1)\n",
    "        for name, param in self.lstm1.named_parameters():\n",
    "            if 'bias' in name:\n",
    "                torch.nn.init.constant_(param, 0.0)\n",
    "            elif 'weight' in name:\n",
    "                torch.nn.init.xavier_uniform_(param)\n",
    "\n",
    "        # fully-connected neural network\n",
    "        self.linear = torch.nn.Linear(lstm2_hidden_size, self.n_nodes*self.n_pred)\n",
    "        torch.nn.init.xavier_uniform_(self.linear.weight)\n",
    "\n",
    "    def forward(self, data, device):\n",
    "        \"\"\"\n",
    "        Forward pass of the ST-GAT model\n",
    "        :param data Data to make a pass on\n",
    "        :param device Device to operate on\n",
    "        \"\"\"\n",
    "        x, edge_index = data.x, data.edge_index\n",
    "        print(x)\n",
    "        # apply dropout\n",
    "        if device == 'cpu':\n",
    "            x = torch.FloatTensor(x)\n",
    "        else:\n",
    "            x = torch.cuda.FloatTensor(x)\n",
    "\n",
    "        # gat layer: output of gat: [11400, 12]\n",
    "        x = self.gat(x, edge_index)\n",
    "        x = F.dropout(x, self.dropout, training=self.training)\n",
    "\n",
    "        # RNN: 2 LSTM\n",
    "        # [batchsize*n_nodes, seq_length] -> [batch_size, n_nodes, seq_length]\n",
    "        batch_size = data.num_graphs\n",
    "        n_node = int(data.num_nodes/batch_size)\n",
    "        x = torch.reshape(x, (batch_size, n_node, data.num_features))\n",
    "        # for lstm: x should be (seq_length, batch_size, n_nodes)\n",
    "        # sequence length = 12, batch_size = 50, n_node = 228\n",
    "        x = torch.movedim(x, 2, 0)\n",
    "        # [12, 50, 228] -> [12, 50, 32]\n",
    "        x, _ = self.lstm1(x)\n",
    "        # [12, 50, 32] -> [12, 50, 128]\n",
    "        x, _ = self.lstm2(x)\n",
    "\n",
    "        # Output contains h_t for each timestep, only the last one has all input's accounted for\n",
    "        # [12, 50, 128] -> [50, 128]\n",
    "        x = torch.squeeze(x[-1, :, :])\n",
    "        # [50, 128] -> [50, 228*9]\n",
    "        x = self.linear(x)\n",
    "\n",
    "        # Now reshape into final output\n",
    "        s = x.shape\n",
    "        # [50, 228*9] -> [50, 228, 9]\n",
    "        x = torch.reshape(x, (s[0], self.n_nodes, self.n_pred))\n",
    "        # [50, 228, 9] ->  [11400, 9]\n",
    "        x = torch.reshape(x, (s[0]*self.n_nodes, self.n_pred))\n",
    "        \n",
    "        return x\n"
   ]
  },
  {
   "cell_type": "markdown",
   "id": "63ef9455-a23f-4bb9-b3c7-ac3af530c2c8",
   "metadata": {
    "tags": []
   },
   "source": [
    "## Create Train and Evaluation functions"
   ]
  },
  {
   "cell_type": "code",
   "execution_count": 39,
   "id": "3749b6a1-5e03-47c5-8f30-23df1a852d23",
   "metadata": {
    "tags": []
   },
   "outputs": [],
   "source": [
    "@torch.no_grad()\n",
    "def eval(model, device, dataloader, type=''):\n",
    "    \"\"\"\n",
    "    Evaluation function to evaluate model on data\n",
    "    :param model Model to evaluate\n",
    "    :param device Device to evaluate on\n",
    "    :param dataloader Data loader\n",
    "    :param type Name of evaluation type, e.g. Train/Val/Test\n",
    "    \"\"\"\n",
    "    model.eval()\n",
    "    model.to(device)\n",
    "\n",
    "    mae = 0\n",
    "    rmse = 0\n",
    "    mape = 0\n",
    "    n = 0\n",
    "\n",
    "    # Evaluate model on all data\n",
    "    for i, batch in enumerate(dataloader):\n",
    "        batch = batch.to(device)\n",
    "        if batch.x.shape[0] == 1:\n",
    "            pass\n",
    "        else:\n",
    "            with torch.no_grad():\n",
    "                pred = model(batch, device)\n",
    "            truth = batch.y.view(pred.shape)\n",
    "            if i == 0:\n",
    "                y_pred = torch.zeros(len(dataloader), pred.shape[0], pred.shape[1])\n",
    "                y_truth = torch.zeros(len(dataloader), pred.shape[0], pred.shape[1])\n",
    "                print(y_pred.shape)\n",
    "            truth = un_z_score(truth, dataloader.dataset.mean, dataloader.dataset.std_dev)\n",
    "            pred = un_z_score(pred, dataloader.dataset.mean, dataloader.dataset.std_dev)\n",
    "            y_pred[i, :pred.shape[0], :] = pred\n",
    "            y_truth[i, :pred.shape[0], :] = truth\n",
    "    \n",
    "            rmse += RMSE(truth, pred)\n",
    "            mae += MAE(truth, pred)\n",
    "            mape += MAPE(truth, pred)\n",
    "            n += 1\n",
    "    rmse, mae, mape = rmse / n, mae / n, mape / n\n",
    "    print(f'{type}, MAE: {mae}, RMSE: {rmse}, MAPE: {mape}')  \n",
    "    #get the average score for each metric in each batch\n",
    "    return rmse, mae, mape, y_pred, y_truth\n",
    "\n",
    "def train(model, device, dataloader, optimizer, loss_fn, epoch):\n",
    "    \"\"\"\n",
    "    Evaluation function to evaluate model on data\n",
    "    :param model Model to evaluate\n",
    "    :param device Device to evaluate on\n",
    "    :param dataloader Data loader\n",
    "    :param optimizer Optimizer to use\n",
    "    :param loss_fn Loss function\n",
    "    :param epoch Current epoch\n",
    "    \"\"\"\n",
    "    model.train()\n",
    "    for _, batch in enumerate(tqdm(dataloader, desc=f\"Epoch {epoch}\")):\n",
    "        batch = batch.to(device)\n",
    "        optimizer.zero_grad()\n",
    "        y_pred = torch.squeeze(model(batch, device))\n",
    "        loss = loss_fn()(y_pred.float(), torch.squeeze(batch.y).float())\n",
    "        writer.add_scalar(\"Loss/train\", loss, epoch)\n",
    "        loss.backward()\n",
    "        optimizer.step()\n",
    "\n",
    "    return loss"
   ]
  },
  {
   "cell_type": "code",
   "execution_count": 14,
   "id": "632a2b97-1df4-426f-b620-373128bc65ca",
   "metadata": {
    "tags": []
   },
   "outputs": [],
   "source": [
    "def z_score(x, mean, std):\n",
    "    \"\"\"\n",
    "    Z-score normalization function: $z = (X - \\mu) / \\sigma $,\n",
    "    where z is the z-score, X is the value of the element,\n",
    "    $\\mu$ is the population mean, and $\\sigma$ is the standard deviation.\n",
    "    :param x: torch array, input array to be normalized.\n",
    "    :param mean: float, the value of mean.\n",
    "    :param std: float, the value of standard deviation.\n",
    "    :return: torch array, z-score normalized array.\n",
    "    \"\"\"\n",
    "    return (x - mean) / std\n",
    "\n",
    "def un_z_score(x_normed, mean, std):\n",
    "    \"\"\"\n",
    "    Undo the Z-score calculation\n",
    "    :param x_normed: torch array, input array to be un-normalized.\n",
    "    :param mean: float, the value of mean.\n",
    "    :param std: float, the value of standard deviation.\n",
    "    \"\"\"\n",
    "    return x_normed * std  + mean\n",
    "\n",
    "\n",
    "def MAPE(v, v_):\n",
    "    \"\"\"\n",
    "    Mean absolute percentage error, given as a % (e.g. 99 -> 99%)\n",
    "    :param v: torch array, ground truth.\n",
    "    :param v_: torch array, prediction.\n",
    "    :return: torch scalar, MAPE averages on all elements of input.\n",
    "    \"\"\"\n",
    "    return torch.mean(torch.abs((v_ - v)) /(v + 1e-15) * 100)\n",
    "\n",
    "\n",
    "def RMSE(v, v_):\n",
    "    \"\"\"\n",
    "    Mean squared error.\n",
    "    :param v: torch array, ground truth.\n",
    "    :param v_: torch array, prediction.\n",
    "    :return: torch scalar, RMSE averages on all elements of input.\n",
    "    \"\"\"\n",
    "    return torch.sqrt(torch.mean((v_ - v) ** 2))\n",
    "\n",
    "\n",
    "def MAE(v, v_):\n",
    "    \"\"\"\n",
    "    Mean absolute error.\n",
    "    :param v: torch array, ground truth.\n",
    "    :param v_: torch array, prediction.\n",
    "    :return: torch scalar, MAE averages on all elements of input.\n",
    "    \"\"\"\n",
    "    return torch.mean(torch.abs(v_ - v))\n"
   ]
  },
  {
   "cell_type": "code",
   "execution_count": 25,
   "id": "b850bea7-9acf-44db-8e15-bc9291a47e91",
   "metadata": {
    "tags": []
   },
   "outputs": [],
   "source": [
    "import torch\n",
    "import torch.optim as optim\n",
    "from tqdm import tqdm\n",
    "import time\n",
    "import os\n",
    "import matplotlib.pyplot as plt\n",
    "\n",
    "from torch.utils.tensorboard import SummaryWriter\n",
    "\n",
    "# Make a tensorboard writer\n",
    "writer = SummaryWriter()\n",
    "\n",
    "def model_train(train_dataloader, val_dataloader, config, device):\n",
    "    \"\"\"\n",
    "    Train the ST-GAT model. Evaluate on validation dataset as you go.\n",
    "    :param train_dataloader Data loader of training dataset\n",
    "    :param val_dataloader Dataloader of val dataset\n",
    "    :param config configuration to use\n",
    "    :param device Device to evaluate on\n",
    "    \"\"\"\n",
    "\n",
    "    # Make the model. Each datapoint in the graph is 228x12: N x F (N = # nodes, F = time window)\n",
    "    model = ST_GAT(in_channels=config['N_HIST'], out_channels=config['N_PRED'], n_nodes=config['N_NODE'], dropout=config['DROPOUT']) \n",
    "    optimizer = optim.Adam(model.parameters(), lr=config['INITIAL_LR'], weight_decay=config['WEIGHT_DECAY'])\n",
    "    loss_fn = torch.nn.MSELoss\n",
    "\n",
    "    model.to(device)\n",
    "\n",
    "    # For every epoch, train the model on training dataset. Evaluate model on validation dataset\n",
    "    for epoch in range(config['EPOCHS']):\n",
    "        loss = train(model, device, train_dataloader, optimizer, loss_fn, epoch)\n",
    "        print(f\"Loss: {loss:.3f}\")\n",
    "        if epoch % 5 == 0:\n",
    "            train_mae, train_rmse, train_mape, _, _ = eval(model, device, train_dataloader, 'Train')\n",
    "            val_mae, val_rmse, val_mape, _, _ = eval(model, device, val_dataloader, 'Valid')\n",
    "            writer.add_scalar(f\"MAE/train\", train_mae, epoch)\n",
    "            writer.add_scalar(f\"RMSE/train\", train_rmse, epoch)\n",
    "            writer.add_scalar(f\"MAPE/train\", train_mape, epoch)\n",
    "            writer.add_scalar(f\"MAE/val\", val_mae, epoch)\n",
    "            writer.add_scalar(f\"RMSE/val\", val_rmse, epoch)\n",
    "            writer.add_scalar(f\"MAPE/val\", val_mape, epoch)\n",
    "\n",
    "    writer.flush()\n",
    "    # Save the model\n",
    "    timestr = time.strftime(\"%m-%d-%H%M%S\")\n",
    "    torch.save({\n",
    "            \"epoch\": epoch,\n",
    "            \"model_state_dict\": model.state_dict(),\n",
    "            \"optimizer_state_dict\": optimizer.state_dict(),\n",
    "            \"loss\": loss,\n",
    "            }, os.path.join(config[\"CHECKPOINT_DIR\"], f\"model_{timestr}.pt\"))\n",
    "\n",
    "    return model\n",
    "\n",
    "def model_test(model, test_dataloader, device, config):\n",
    "    \"\"\"\n",
    "    Test the ST-GAT model\n",
    "    :param test_dataloader Data loader of test dataset\n",
    "    :param device Device to evaluate on\n",
    "    \"\"\"\n",
    "    _, _, _, y_pred, y_truth = eval(model, device, test_dataloader, 'Test')\n"
   ]
  },
  {
   "cell_type": "markdown",
   "id": "2d68803a-e07b-4ab0-baa1-a3ebdc83d57f",
   "metadata": {
    "tags": []
   },
   "source": [
    "## Start training"
   ]
  },
  {
   "cell_type": "markdown",
   "id": "34a16779-738e-4214-a02a-d8f8a676d719",
   "metadata": {
    "jupyter": {
     "outputs_hidden": true
    },
    "tags": []
   },
   "source": [
    "%load_ext tensorboard\n",
    "%tensorboard --logdir ./runs"
   ]
  },
  {
   "cell_type": "code",
   "execution_count": 26,
   "id": "ce06b75a-0afe-44cf-bb5c-5aaf9c2e68e6",
   "metadata": {
    "tags": []
   },
   "outputs": [],
   "source": [
    "from torch_geometric.loader import DataLoader\n",
    "\n",
    "# Constant config to use throughout\n",
    "config = {\n",
    "    'BATCH_SIZE': 50,\n",
    "    'EPOCHS': 6, # 60 default\n",
    "    'WEIGHT_DECAY': 5e-5,\n",
    "    'INITIAL_LR': 3e-4,\n",
    "    'CHECKPOINT_DIR': './runs',\n",
    "    'N_PRED': 9,\n",
    "    'N_HIST': 12,\n",
    "    'DROPOUT': 0.2,\n",
    "    # number of possible 5 minute measurements per day\n",
    "    'N_DAY_SLOT': 288,\n",
    "    # number of days worth of data in the dataset\n",
    "    'N_DAYS': 44,\n",
    "    # If false, use GCN paper weight matrix, if true, use GAT paper weight matrix\n",
    "    'USE_GAT_WEIGHTS': True,\n",
    "    'N_NODE': 228,\n",
    "}\n",
    "# Number of possible windows in a day\n",
    "config['N_SLOT']= config['N_DAY_SLOT'] - (config['N_PRED']+config['N_HIST']) + 1\n",
    "\n",
    "# Load the weight and dataset dataset\n",
    "distances = pd.read_csv('./dataset/PeMSD7_W_228.csv', header=None).values\n",
    "W = distance_to_weight(distances, gat_version=config['USE_GAT_WEIGHTS'])\n",
    "dataset = TrafficDataset(config, W)\n"
   ]
  },
  {
   "cell_type": "code",
   "execution_count": 27,
   "id": "e76bc79f-403d-4240-bc94-37d36bee60a3",
   "metadata": {
    "tags": []
   },
   "outputs": [
    {
     "name": "stdout",
     "output_type": "stream",
     "text": [
      "Using cpu\n"
     ]
    }
   ],
   "source": [
    "# total of 44 days in the dataset, use 34 for training, 5 for val, 5 for test\n",
    "d_train, d_val, d_test = get_splits(dataset, config['N_SLOT'], (34, 5, 5))\n",
    "train_dataloader = DataLoader(d_train, batch_size=config['BATCH_SIZE'], shuffle=True)\n",
    "val_dataloader = DataLoader(d_val, batch_size=config['BATCH_SIZE'], shuffle=True)\n",
    "test_dataloader = DataLoader(d_test, batch_size=config['BATCH_SIZE'], shuffle=False)\n",
    "\n",
    "# Get gpu if you can\n",
    "device = 'cuda' if torch.cuda.is_available() else 'cpu'\n",
    "print(f\"Using {device}\")\n",
    "\n",
    "# Configure and train model\n",
    "config['N_NODE'] = dataset.n_node"
   ]
  },
  {
   "cell_type": "code",
   "execution_count": 40,
   "id": "2f415457-d431-4fad-b22d-bbcf136760d0",
   "metadata": {
    "tags": []
   },
   "outputs": [
    {
     "name": "stderr",
     "output_type": "stream",
     "text": [
      "Epoch 0:   0%|          | 0/183 [00:00<?, ?it/s]"
     ]
    },
    {
     "name": "stdout",
     "output_type": "stream",
     "text": [
      "tensor([[ 0.8315,  0.8685,  0.8389,  ...,  0.8389,  0.9056,  0.7573],\n",
      "        [ 1.0985,  0.5867,  0.8092,  ...,  0.7795,  0.7350,  0.8982],\n",
      "        [-0.1327, -0.1179,  0.0676,  ...,  0.0453,  0.0898,  0.2307],\n",
      "        ...,\n",
      "        [ 0.2826,  0.3271,  0.2604,  ...,  0.1936,  0.2085,  0.1862],\n",
      "        [ 0.0972,  0.1343,  0.1417,  ...,  0.0231,  0.0898,  0.1862],\n",
      "        [-0.1179,  0.1343,  0.1936,  ...,  0.4903,  0.5496,  0.5645]])\n",
      "torch.Size([11400, 9])\n"
     ]
    },
    {
     "name": "stderr",
     "output_type": "stream",
     "text": [
      "Epoch 0:   1%|          | 2/183 [00:00<00:37,  4.89it/s]"
     ]
    },
    {
     "name": "stdout",
     "output_type": "stream",
     "text": [
      "tensor([[-2.2168, -2.4022, -2.4838,  ..., -2.8101, -2.5653, -2.6321],\n",
      "        [ 0.9724,  0.8315,  0.9279,  ...,  0.7425,  0.7499,  0.5719],\n",
      "        [-1.9794, -2.2909, -2.3058,  ..., -1.5493, -1.2749, -1.3119],\n",
      "        ...,\n",
      "        [ 0.6609,  0.6757,  0.6980,  ...,  0.7054,  0.8018,  0.8908],\n",
      "        [ 0.6312,  0.6831,  0.7276,  ...,  0.6831,  0.6831,  0.6238],\n",
      "        [ 0.7202,  0.7128,  0.6386,  ...,  0.7054,  0.7054,  0.7202]])\n",
      "torch.Size([11400, 9])\n",
      "tensor([[ 0.0082, -0.0066, -0.0734,  ...,  0.0453,  0.1195,  0.0972],\n",
      "        [ 0.8982,  0.9205,  0.7202,  ...,  1.2320,  0.9130,  1.1281],\n",
      "        [ 0.7128,  0.6905,  0.6905,  ...,  0.4532,  0.4310,  0.5496],\n",
      "        ...,\n",
      "        [-1.0079, -1.0301, -0.9634,  ..., -0.1698, -0.1772, -0.3107],\n",
      "        [-3.0623, -2.7433, -2.7953,  ..., -1.5493, -1.6902, -2.1129],\n",
      "        [ 0.0156, -0.0659, -0.1846,  ...,  0.1714,  0.2752,  0.2530]])\n"
     ]
    },
    {
     "name": "stderr",
     "output_type": "stream",
     "text": [
      "Epoch 0:   2%|▏         | 3/183 [00:00<00:32,  5.48it/s]"
     ]
    },
    {
     "name": "stdout",
     "output_type": "stream",
     "text": [
      "torch.Size([11400, 9])\n",
      "tensor([[-2.2835, -1.5196, -1.8237,  ..., -1.2749, -0.8892, -0.4219],\n",
      "        [-2.7063, -3.0623, -3.2773,  ..., -2.2464, -2.6173, -2.3132],\n",
      "        [ 0.7870,  0.8463,  0.9056,  ...,  0.8166,  0.8760,  0.8463],\n",
      "        ...,\n",
      "        [ 0.0750,  0.0082, -0.0437,  ...,  0.0156,  0.0601, -0.0066],\n",
      "        [ 0.1417, -0.0066,  0.0379,  ...,  0.0156, -0.0066,  0.0082],\n",
      "        [ 0.2975,  0.2011,  0.2530,  ..., -0.2736, -0.6370, -0.6741]])\n",
      "torch.Size([11400, 9])\n"
     ]
    },
    {
     "name": "stderr",
     "output_type": "stream",
     "text": [
      "Epoch 0:   3%|▎         | 5/183 [00:00<00:26,  6.62it/s]"
     ]
    },
    {
     "name": "stdout",
     "output_type": "stream",
     "text": [
      "tensor([[ 0.9501,  1.2171,  1.2023,  ...,  0.4235,  0.4235,  0.3642],\n",
      "        [ 0.7870,  0.6386,  0.7350,  ...,  0.6831,  0.5867,  0.5200],\n",
      "        [ 0.9724,  1.0391,  1.0391,  ..., -0.5777, -0.5703, -1.1265],\n",
      "        ...,\n",
      "        [ 0.6609,  0.6831,  0.7350,  ...,  0.6683,  0.5348,  0.6905],\n",
      "        [ 0.6460,  0.7128,  0.7276,  ...,  0.5645,  0.4310,  0.6831],\n",
      "        [ 0.4087,  0.4013,  0.4310,  ...,  0.4977,  0.5051,  0.4755]])\n",
      "torch.Size([11400, 9])\n",
      "tensor([[-2.1055, -1.2971, -0.4887,  ...,  0.6683,  0.5793,  0.4235],\n",
      "        [ 0.3049,  0.3865,  0.3271,  ...,  0.3865,  0.2381,  0.2381],\n",
      "        [-1.7718, -1.7495, -1.7273,  ..., -0.6889, -0.6815, -0.8966],\n",
      "        ...,\n",
      "        [ 0.0750,  0.0453,  0.1046,  ...,  0.1195,  0.2307,  0.2455],\n",
      "        [ 0.2826,  0.2678,  0.2233,  ...,  0.2900,  0.3865,  0.3049],\n",
      "        [-0.8150, -0.5184, -0.2810,  ..., -0.2588, -0.2143, -0.0437]])\n",
      "torch.Size([11400, 9])\n"
     ]
    },
    {
     "name": "stderr",
     "output_type": "stream",
     "text": [
      "Epoch 0:   4%|▍         | 7/183 [00:01<00:26,  6.61it/s]"
     ]
    },
    {
     "name": "stdout",
     "output_type": "stream",
     "text": [
      "tensor([[ 7.3505e-01,  7.7213e-01,  8.0179e-01,  ...,  5.8671e-01,\n",
      "          6.6830e-01,  8.2404e-01],\n",
      "        [ 5.7930e-01,  6.1638e-01,  1.0910e+00,  ...,  4.0872e-01,\n",
      "          4.2355e-01,  2.6038e-01],\n",
      "        [ 6.7571e-01,  4.5321e-01,  3.9388e-01,  ...,  2.1588e-01,\n",
      "          1.3430e-01,  1.5655e-01],\n",
      "        ...,\n",
      "        [-6.5947e-02,  1.0463e-01,  3.7885e-02,  ..., -4.3697e-02,\n",
      "          4.5302e-02, -8.0780e-02],\n",
      "        [ 8.9801e-02,  4.5302e-02,  7.4968e-02,  ...,  1.5635e-02,\n",
      "          4.5302e-02,  8.0218e-04],\n",
      "        [ 2.3072e-01,  2.6038e-01,  1.9363e-01,  ...,  2.3072e-01,\n",
      "          2.3813e-01,  3.2713e-01]])\n",
      "torch.Size([11400, 9])\n",
      "tensor([[0.1491, 0.0601, 0.1269,  ..., 0.2011, 0.3271, 0.3271],\n",
      "        [0.7647, 0.7573, 0.6757,  ..., 0.9427, 1.3358, 1.0836],\n",
      "        [1.0540, 1.2394, 1.1133,  ..., 0.4606, 0.7721, 0.7499],\n",
      "        ...,\n",
      "        [0.6535, 0.5941, 0.5941,  ..., 0.7499, 0.7944, 0.6757],\n",
      "        [0.6535, 0.7128, 0.6609,  ..., 0.8611, 0.8092, 0.7128],\n",
      "        [0.2381, 0.2307, 0.2455,  ..., 0.1121, 0.1195, 0.0898]])\n",
      "torch.Size([11400, 9])\n"
     ]
    },
    {
     "name": "stderr",
     "output_type": "stream",
     "text": [
      "Epoch 0:   5%|▍         | 9/183 [00:01<00:24,  7.08it/s]"
     ]
    },
    {
     "name": "stdout",
     "output_type": "stream",
     "text": [
      "tensor([[-2.8620, -3.0845, -2.8472,  ...,  0.1862,  0.4087,  0.4310],\n",
      "        [-3.5147, -3.3663, -3.5147,  ..., -3.3070, -3.3441, -3.2403],\n",
      "        [ 0.7054,  0.6905,  0.7425,  ...,  0.8092,  0.8315,  0.8018],\n",
      "        ...,\n",
      "        [ 0.3420,  0.3865,  0.3271,  ...,  0.4755,  0.4829,  0.4310],\n",
      "        [ 0.2530,  0.2678,  0.2900,  ...,  0.5051,  0.5422,  0.5200],\n",
      "        [-0.6222, -0.5480, -0.5035,  ..., -0.6519, -0.5035, -0.6074]])\n",
      "torch.Size([11400, 9])\n",
      "tensor([[ 0.2900,  0.0676,  0.3049,  ..., -0.0808, -0.2959, -0.2736],\n",
      "        [-2.2019, -0.7409,  0.0231,  ...,  0.4384,  0.4310,  0.4903],\n",
      "        [ 0.1195, -0.0808, -0.1030,  ..., -1.3787, -1.6531, -1.7273],\n",
      "        ...,\n",
      "        [ 0.2085,  0.1788,  0.2530,  ...,  0.1491,  0.0972,  0.1417],\n",
      "        [ 0.2900,  0.2455,  0.2975,  ...,  0.1566,  0.2381,  0.2604],\n",
      "        [ 0.1862,  0.3271,  0.4977,  ...,  0.6609,  0.5422,  0.5422]])\n",
      "torch.Size([11400, 9])\n"
     ]
    },
    {
     "name": "stderr",
     "output_type": "stream",
     "text": [
      "Epoch 0:   6%|▌         | 11/183 [00:01<00:24,  7.06it/s]"
     ]
    },
    {
     "name": "stdout",
     "output_type": "stream",
     "text": [
      "tensor([[ 0.1195,  0.0231,  0.0527,  ...,  0.0824,  0.0750, -0.1179],\n",
      "        [ 0.6831,  0.6312,  0.5570,  ...,  0.9946,  0.8685,  0.9946],\n",
      "        [ 0.4532,  0.5274,  0.6980,  ...,  0.5348,  0.5422,  0.4680],\n",
      "        ...,\n",
      "        [ 0.4384,  0.4977,  0.5719,  ...,  0.3790,  0.3642,  0.4310],\n",
      "        [ 0.3123,  0.3865,  0.3790,  ...,  0.1788,  0.1788,  0.1714],\n",
      "        [ 0.4977,  0.4087,  0.3345,  ...,  0.2900,  0.3790,  0.3865]])\n",
      "torch.Size([11400, 9])\n",
      "tensor([[ 0.5496,  0.5941,  0.5200,  ..., -1.4084, -1.9275, -2.2835],\n",
      "        [ 0.6683,  0.5645,  0.7054,  ...,  0.6386,  0.6460,  0.7425],\n",
      "        [-1.2600, -1.5048, -1.6457,  ..., -1.4380, -1.6383, -1.2749],\n",
      "        ...,\n",
      "        [ 0.6683,  0.5793,  0.5719,  ...,  0.8685,  0.8463,  0.8389],\n",
      "        [ 0.6460,  0.5793,  0.6905,  ...,  0.8908,  0.8389,  0.8240],\n",
      "        [ 0.8018,  0.6535,  0.6905,  ...,  0.7573,  0.7128,  0.7350]])\n",
      "torch.Size([11400, 9])\n"
     ]
    },
    {
     "name": "stderr",
     "output_type": "stream",
     "text": [
      "Epoch 0:   7%|▋         | 13/183 [00:01<00:23,  7.35it/s]"
     ]
    },
    {
     "name": "stdout",
     "output_type": "stream",
     "text": [
      "tensor([[-2.3577, -2.2983, -2.5357,  ..., -2.5728, -0.4442, -1.1636],\n",
      "        [ 0.4903,  0.5422,  0.4235,  ..., -2.1648, -2.7804, -2.8249],\n",
      "        [-0.0956,  0.0453,  0.1788,  ..., -0.2514, -0.1624, -0.1475],\n",
      "        ...,\n",
      "        [ 0.6535,  0.6164,  0.4755,  ...,  0.7350,  0.8315,  0.9353],\n",
      "        [ 0.5274,  0.3790,  0.4458,  ...,  0.6609,  0.7350,  0.9279],\n",
      "        [ 0.7944,  0.7425,  0.8463,  ...,  0.8834,  0.7795,  0.6757]])\n",
      "torch.Size([11400, 9])\n",
      "tensor([[0.7499, 0.9205, 0.8389,  ..., 0.7721, 1.0020, 0.7054],\n",
      "        [1.2245, 1.1133, 1.1059,  ..., 0.8092, 1.0762, 1.0391],\n",
      "        [0.4087, 0.4013, 0.1121,  ..., 0.6831, 0.5793, 0.5200],\n",
      "        ...,\n",
      "        [0.3345, 0.2011, 0.3197,  ..., 0.5645, 0.5719, 0.6905],\n",
      "        [0.1343, 0.1343, 0.1343,  ..., 0.4977, 0.4829, 0.5793],\n",
      "        [0.2975, 0.2975, 0.3568,  ..., 0.3939, 0.4087, 0.3790]])\n"
     ]
    },
    {
     "name": "stderr",
     "output_type": "stream",
     "text": [
      "Epoch 0:   8%|▊         | 14/183 [00:02<00:24,  6.97it/s]"
     ]
    },
    {
     "name": "stdout",
     "output_type": "stream",
     "text": [
      "torch.Size([11400, 9])\n",
      "tensor([[-2.9362e+00, -2.7953e+00, -2.8768e+00,  ..., -2.8323e+00,\n",
      "         -2.8101e+00, -2.8398e+00],\n",
      "        [ 9.1304e-01,  8.7596e-01,  7.4988e-01,  ...,  6.5346e-01,\n",
      "          5.0513e-01,  4.9771e-01],\n",
      "        [-1.9127e+00, -2.0388e+00, -2.3280e+00,  ..., -4.2936e-01,\n",
      "         -1.4011e-01, -7.3364e-02],\n",
      "        ...,\n",
      "        [-1.1786e-01, -1.4011e-01, -1.7720e-01,  ..., -1.6978e-01,\n",
      "         -2.3653e-01, -1.6236e-01],\n",
      "        [-1.2528e-01, -1.2528e-01, -1.2528e-01,  ...,  3.0469e-02,\n",
      "          8.0218e-04,  1.5635e-02],\n",
      "        [-1.0303e-01, -3.6281e-02, -7.3364e-02,  ..., -2.8103e-01,\n",
      "         -3.1069e-01, -3.1069e-01]])\n",
      "torch.Size([11400, 9])\n"
     ]
    },
    {
     "name": "stderr",
     "output_type": "stream",
     "text": [
      "Epoch 0:   9%|▊         | 16/183 [00:02<00:23,  7.25it/s]"
     ]
    },
    {
     "name": "stdout",
     "output_type": "stream",
     "text": [
      "tensor([[1.0762, 1.0465, 1.1281,  ..., 0.7350, 0.8611, 0.9205],\n",
      "        [0.8315, 0.8315, 0.8240,  ..., 0.7499, 0.7350, 0.8315],\n",
      "        [0.6831, 0.6609, 0.6980,  ..., 0.6683, 0.7647, 0.6312],\n",
      "        ...,\n",
      "        [0.9279, 0.8685, 0.8463,  ..., 0.5274, 0.4977, 0.4829],\n",
      "        [0.8982, 0.8908, 0.8389,  ..., 0.6312, 0.6312, 0.5645],\n",
      "        [0.7128, 0.7573, 0.7128,  ..., 0.3420, 0.2752, 0.2307]])\n",
      "torch.Size([11400, 9])\n",
      "tensor([[ 0.2233,  0.1936, -0.0437,  ...,  0.1343, -0.1104,  0.0231],\n",
      "        [ 0.8760,  1.0169,  0.8611,  ...,  0.9056,  0.8611,  0.8092],\n",
      "        [ 0.6905,  0.6609,  0.8685,  ...,  1.1133,  1.0836,  1.0688],\n",
      "        ...,\n",
      "        [ 0.6757,  0.6609,  0.3568,  ...,  0.4829,  0.5200,  0.7647],\n",
      "        [ 0.6312,  0.5941,  0.5867,  ...,  0.5200,  0.6609,  0.5867],\n",
      "        [ 0.7944,  0.8463,  0.8240,  ...,  0.8240,  0.8092,  0.8611]])\n",
      "torch.Size([11400, 9])\n"
     ]
    },
    {
     "name": "stderr",
     "output_type": "stream",
     "text": [
      "Epoch 0:  10%|▉         | 18/183 [00:02<00:22,  7.28it/s]"
     ]
    },
    {
     "name": "stdout",
     "output_type": "stream",
     "text": [
      "tensor([[ 0.7721,  0.7944,  0.9130,  ...,  0.6831,  0.6386,  0.5941],\n",
      "        [ 0.8685,  0.4310,  0.6980,  ...,  0.8908,  0.6164,  0.7870],\n",
      "        [ 0.2975, -0.0437,  0.0082,  ..., -0.0437, -0.1624, -0.3329],\n",
      "        ...,\n",
      "        [-0.0808, -0.1920, -0.1327,  ...,  0.0527, -0.0659, -0.0511],\n",
      "        [-0.0659,  0.0750,  0.0898,  ...,  0.0156,  0.0676,  0.0824],\n",
      "        [-0.3181, -0.2884, -0.2662,  ..., -0.2365, -0.2439, -0.3107]])\n",
      "torch.Size([11400, 9])\n",
      "tensor([[1.0243, 1.2023, 1.1949,  ..., 0.7128, 0.8685, 0.8389],\n",
      "        [0.8315, 1.3580, 1.2171,  ..., 0.9205, 0.9650, 0.8166],\n",
      "        [0.4606, 0.6831, 0.5793,  ..., 0.4384, 0.3790, 0.4161],\n",
      "        ...,\n",
      "        [0.4903, 0.4606, 0.6015,  ..., 0.6238, 0.5941, 0.5793],\n",
      "        [0.3642, 0.2381, 0.3197,  ..., 0.5125, 0.5645, 0.4458],\n",
      "        [0.4161, 0.4458, 0.4680,  ..., 0.8240, 0.6980, 0.6831]])\n",
      "torch.Size([11400, 9])\n"
     ]
    },
    {
     "name": "stderr",
     "output_type": "stream",
     "text": [
      "Epoch 0:  11%|█         | 20/183 [00:02<00:21,  7.54it/s]"
     ]
    },
    {
     "name": "stdout",
     "output_type": "stream",
     "text": [
      "tensor([[-2.3354, -2.3799, -2.3577,  ..., -0.4145,  0.4087,  0.7944],\n",
      "        [-3.1958, -3.3293, -3.4776,  ..., -2.6321, -2.8768, -2.7433],\n",
      "        [-2.9213, -2.7137, -2.5208,  ..., -1.9349, -1.4529, -0.3255],\n",
      "        ...,\n",
      "        [ 0.0453,  0.0527, -0.0289,  ...,  0.0453,  0.0972,  0.1046],\n",
      "        [ 0.1491,  0.1491,  0.0824,  ...,  0.1491,  0.1936,  0.1862],\n",
      "        [ 0.1121,  0.0824,  0.0305,  ...,  0.0527,  0.0305,  0.0824]])\n",
      "torch.Size([11400, 9])\n",
      "tensor([[-0.2810, -0.0437,  0.1046,  ..., -0.6593, -0.4368, -0.2365],\n",
      "        [-2.3503, -2.5357, -2.3948,  ..., -2.2316, -2.1426, -2.1278],\n",
      "        [-0.2365, -0.1253, -0.1253,  ...,  0.0527, -0.1104,  0.0972],\n",
      "        ...,\n",
      "        [ 0.2604,  0.2975,  0.3790,  ...,  0.2381,  0.3642,  0.3345],\n",
      "        [ 0.2011,  0.2381,  0.2381,  ...,  0.1269,  0.1714,  0.2678],\n",
      "        [ 0.0453,  0.1714,  0.3049,  ...,  0.7721,  0.7202,  0.7425]])\n",
      "torch.Size([11400, 9])\n"
     ]
    },
    {
     "name": "stderr",
     "output_type": "stream",
     "text": [
      "Epoch 0:  12%|█▏        | 22/183 [00:03<00:21,  7.53it/s]"
     ]
    },
    {
     "name": "stdout",
     "output_type": "stream",
     "text": [
      "tensor([[ 3.7885e-02,  8.2188e-03, -7.3364e-02,  ...,  3.0469e-02,\n",
      "          8.2188e-03, -1.1045e-01],\n",
      "        [ 9.5754e-01,  1.2394e+00,  9.6496e-01,  ...,  1.1207e+00,\n",
      "          8.5371e-01,  8.6113e-01],\n",
      "        [ 7.4988e-01,  8.0921e-01,  8.3146e-01,  ...,  1.1281e+00,\n",
      "          1.1504e+00,  1.2468e+00],\n",
      "        ...,\n",
      "        [ 7.4968e-02,  9.7218e-02,  3.7885e-02,  ...,  1.0463e-01,\n",
      "          8.9801e-02,  8.0218e-04],\n",
      "        [ 2.5297e-01,  1.9363e-01,  1.3430e-01,  ...,  7.4968e-02,\n",
      "          1.1205e-01,  1.1205e-01],\n",
      "        [ 6.3863e-01,  5.2738e-01,  3.7905e-01,  ...,  6.2380e-01,\n",
      "          6.1638e-01,  5.5705e-01]])\n",
      "torch.Size([11400, 9])\n",
      "tensor([[-3.0697, -3.0178, -2.8768,  ..., -3.0548, -3.1661, -2.9881],\n",
      "        [-3.4257, -3.2551, -3.3738,  ..., -3.2403, -3.4776, -3.5221],\n",
      "        [-2.1352, -1.9498, -1.7569,  ..., -1.5270, -0.9411, -0.6593],\n",
      "        ...,\n",
      "        [ 0.1343,  0.2011,  0.1491,  ...,  0.2530,  0.3197,  0.3494],\n",
      "        [ 0.2455,  0.2900,  0.2159,  ...,  0.3568,  0.3939,  0.3642],\n",
      "        [-0.9114, -0.7038, -0.7038,  ..., -0.6964, -0.8966, -1.0672]])\n",
      "torch.Size([11400, 9])\n"
     ]
    },
    {
     "name": "stderr",
     "output_type": "stream",
     "text": [
      "Epoch 0:  13%|█▎        | 24/183 [00:03<00:21,  7.49it/s]"
     ]
    },
    {
     "name": "stdout",
     "output_type": "stream",
     "text": [
      "tensor([[0.7276, 0.8611, 0.9872,  ..., 0.7721, 0.7276, 0.7795],\n",
      "        [0.7425, 0.8092, 0.9798,  ..., 1.1133, 0.9427, 0.9650],\n",
      "        [0.1343, 0.2159, 0.0824,  ..., 0.0453, 0.2085, 0.2678],\n",
      "        ...,\n",
      "        [0.6238, 0.5793, 0.7054,  ..., 0.6905, 0.7350, 0.6386],\n",
      "        [0.6757, 0.6312, 0.6757,  ..., 0.5793, 0.6015, 0.7425],\n",
      "        [0.4161, 0.4087, 0.5719,  ..., 0.7944, 0.7202, 0.8389]])\n",
      "torch.Size([11400, 9])\n",
      "tensor([[-2.1723, -1.8088, -1.0449,  ..., -2.4986, -2.5505, -2.7063],\n",
      "        [-2.5950, -2.5653, -2.7730,  ..., -3.1809, -3.2996, -2.6469],\n",
      "        [ 0.1417,  0.1195,  0.1491,  ...,  0.2233,  0.2826,  0.2085],\n",
      "        ...,\n",
      "        [ 0.4384,  0.4013,  0.4680,  ...,  0.6757,  0.6980,  0.6164],\n",
      "        [ 0.5719,  0.6164,  0.6090,  ...,  0.6015,  0.5570,  0.4977],\n",
      "        [ 0.3197,  0.0676, -0.0214,  ...,  0.7721,  0.8834,  0.6535]])\n",
      "torch.Size([11400, 9])\n"
     ]
    },
    {
     "name": "stderr",
     "output_type": "stream",
     "text": [
      "Epoch 0:  14%|█▍        | 26/183 [00:03<00:21,  7.39it/s]"
     ]
    },
    {
     "name": "stdout",
     "output_type": "stream",
     "text": [
      "tensor([[ 0.4161,  0.7870,  0.9798,  ...,  0.6090,  0.8463,  0.7573],\n",
      "        [ 0.3865,  0.1714,  0.4977,  ...,  0.5051,  0.6386,  0.8018],\n",
      "        [ 0.3716,  0.6312,  0.5422,  ...,  0.5348,  0.7128,  0.7425],\n",
      "        ...,\n",
      "        [ 0.2678, -0.0363,  0.1417,  ...,  0.3568,  0.6238,  0.4087],\n",
      "        [ 0.1195,  0.2604,  0.0156,  ...,  0.3049,  0.2752,  0.5719],\n",
      "        [ 0.7054,  0.7573,  0.6164,  ...,  0.6015,  0.5719,  0.7054]])\n",
      "torch.Size([11400, 9])\n",
      "tensor([[1.1059, 0.9130, 0.9872,  ..., 0.9872, 1.0465, 1.1059],\n",
      "        [0.9501, 1.1800, 1.3061,  ..., 0.5645, 0.4532, 1.1355],\n",
      "        [0.6460, 0.6386, 0.6980,  ..., 0.8166, 0.6015, 0.5200],\n",
      "        ...,\n",
      "        [0.8166, 0.8315, 0.8018,  ..., 0.5051, 0.5570, 0.4680],\n",
      "        [0.8611, 0.8982, 0.8463,  ..., 0.6090, 0.5645, 0.6015],\n",
      "        [0.7795, 0.7054, 0.6164,  ..., 0.1269, 0.2233, 0.0972]])\n",
      "torch.Size([11400, 9])\n"
     ]
    },
    {
     "name": "stderr",
     "output_type": "stream",
     "text": [
      "Epoch 0:  15%|█▌        | 28/183 [00:03<00:20,  7.56it/s]"
     ]
    },
    {
     "name": "stdout",
     "output_type": "stream",
     "text": [
      "tensor([[ 6.5346e-01,  8.0179e-01,  2.3813e-01,  ...,  7.4988e-01,\n",
      "          7.1280e-01,  8.1663e-01],\n",
      "        [ 1.4693e+00,  1.4396e+00,  1.6621e+00,  ...,  1.4619e+00,\n",
      "          1.3951e+00,  1.4767e+00],\n",
      "        [ 9.7238e-01,  9.9463e-01,  9.2046e-01,  ..., -6.5947e-02,\n",
      "          3.5680e-01,  5.8671e-01],\n",
      "        ...,\n",
      "        [-7.3364e-02, -4.3697e-02, -1.0303e-01,  ..., -1.4011e-01,\n",
      "         -1.7720e-01, -8.8197e-02],\n",
      "        [-4.3697e-02, -1.9945e-01, -9.5614e-02,  ..., -1.2528e-01,\n",
      "         -1.2528e-01, -2.8864e-02],\n",
      "        [ 8.0218e-04, -4.3697e-02, -7.3364e-02,  ..., -3.6281e-02,\n",
      "         -7.3364e-02, -7.3364e-02]])\n",
      "torch.Size([11400, 9])\n",
      "tensor([[ 0.8092,  0.7350,  0.9279,  ...,  1.0169,  0.7944,  0.9427],\n",
      "        [ 0.7425,  0.5200,  0.4458,  ...,  0.6386,  0.6609,  0.6757],\n",
      "        [ 0.6238,  0.4755,  0.5274,  ...,  0.5125,  0.6460,  0.5793],\n",
      "        ...,\n",
      "        [-0.2143, -0.2884, -0.8669,  ...,  0.0601,  0.0750,  0.0750],\n",
      "        [-2.6692, -2.5579, -1.1414,  ...,  0.1491,  0.2678,  0.2233],\n",
      "        [ 0.2530,  0.3420,  0.3790,  ...,  0.3420,  0.3049,  0.2900]])\n",
      "torch.Size([11400, 9])\n"
     ]
    },
    {
     "name": "stderr",
     "output_type": "stream",
     "text": [
      "Epoch 0:  16%|█▋        | 30/183 [00:04<00:20,  7.35it/s]"
     ]
    },
    {
     "name": "stdout",
     "output_type": "stream",
     "text": [
      "tensor([[ 1.1949,  1.0614,  1.2913,  ...,  0.4161,  0.2900, -0.0808],\n",
      "        [ 0.9056,  1.0169,  0.9798,  ...,  0.5200,  0.5348,  0.6015],\n",
      "        [ 0.9427,  0.9353,  0.4384,  ..., -1.0969, -1.0375, -1.0820],\n",
      "        ...,\n",
      "        [ 0.7054,  0.7350,  0.6164,  ...,  0.6386,  0.6980,  0.8018],\n",
      "        [ 0.6386,  0.7499,  0.5422,  ...,  0.7202,  0.7795,  0.7276],\n",
      "        [ 0.3939,  0.3790,  0.3716,  ...,  0.3568,  0.3716,  0.3790]])\n",
      "torch.Size([11400, 9])\n",
      "tensor([[0.9353, 0.8092, 0.9650,  ..., 1.0540, 1.0169, 0.9650],\n",
      "        [0.8982, 0.6905, 0.7350,  ..., 1.0020, 1.0836, 1.2320],\n",
      "        [0.7425, 0.8982, 0.8685,  ..., 0.5941, 0.7202, 0.8240],\n",
      "        ...,\n",
      "        [0.7944, 0.8018, 0.7721,  ..., 0.5719, 0.5867, 0.6015],\n",
      "        [0.8611, 0.8685, 0.9130,  ..., 0.8834, 0.7573, 0.6905],\n",
      "        [0.6609, 0.5941, 0.6535,  ..., 0.3716, 0.3494, 0.2826]])\n",
      "torch.Size([11400, 9])\n"
     ]
    },
    {
     "name": "stderr",
     "output_type": "stream",
     "text": [
      "Epoch 0:  17%|█▋        | 32/183 [00:04<00:20,  7.54it/s]"
     ]
    },
    {
     "name": "stdout",
     "output_type": "stream",
     "text": [
      "tensor([[ 0.8092,  0.8611,  1.0910,  ...,  0.9575,  0.8240,  0.9130],\n",
      "        [ 0.7128,  0.8092,  0.8685,  ...,  0.6757,  0.7647,  0.7795],\n",
      "        [ 0.7795,  0.8166,  0.9130,  ...,  0.6015,  0.5793,  0.4606],\n",
      "        ...,\n",
      "        [ 0.3049,  0.3716,  0.3865,  ...,  0.3716,  0.4161,  0.4235],\n",
      "        [ 0.1714,  0.1936,  0.3568,  ...,  0.1714,  0.1714,  0.1343],\n",
      "        [-0.6667, -0.5629, -0.6741,  ...,  0.0527,  0.0527,  0.1046]])\n",
      "torch.Size([11400, 9])\n",
      "tensor([[ 1.1133,  0.9427,  1.0317,  ...,  0.8908,  0.9946,  0.9056],\n",
      "        [-2.8027, -1.7495, -1.8237,  ...,  0.9946,  1.0614,  1.1133],\n",
      "        [ 0.5496,  0.7276,  0.8463,  ...,  0.6460, -0.4145, -1.4751],\n",
      "        ...,\n",
      "        [-0.0437, -0.1179,  0.0082,  ...,  0.0601,  0.0527, -0.1920],\n",
      "        [ 0.0527,  0.0156,  0.0972,  ...,  0.1640,  0.1714,  0.2011],\n",
      "        [ 0.0527, -0.0289, -0.0289,  ..., -0.3255, -0.2810, -0.3033]])\n",
      "torch.Size([11400, 9])\n"
     ]
    },
    {
     "name": "stderr",
     "output_type": "stream",
     "text": [
      "Epoch 0:  19%|█▊        | 34/183 [00:04<00:19,  7.55it/s]"
     ]
    },
    {
     "name": "stdout",
     "output_type": "stream",
     "text": [
      "tensor([[-0.0585,  0.0527, -0.1030,  ...,  0.0082, -0.1624, -0.2217],\n",
      "        [ 0.2900,  0.2900,  0.4829,  ...,  0.5422,  0.5051,  0.5867],\n",
      "        [ 0.5496,  0.3568,  0.4087,  ...,  0.4606,  0.8092,  0.6090],\n",
      "        ...,\n",
      "        [ 0.7499,  0.8389,  0.9056,  ...,  0.6831,  0.7054,  0.6460],\n",
      "        [ 0.8092,  0.8685,  0.8463,  ...,  0.7054,  0.6980,  0.7276],\n",
      "        [ 0.8611,  0.8240,  0.7870,  ...,  0.5867,  0.6312,  0.6164]])\n",
      "torch.Size([11400, 9])\n",
      "tensor([[-2.3725, -2.3873, -2.2983,  ...,  0.3642,  0.2678,  0.1936],\n",
      "        [ 0.2381,  0.3271,  0.3420,  ...,  0.2752,  0.2604,  0.1936],\n",
      "        [-1.3119, -1.0746, -0.7557,  ..., -0.0363,  0.0082,  0.0231],\n",
      "        ...,\n",
      "        [ 0.7276,  0.7721,  0.8685,  ...,  0.7054,  0.6015,  0.6757],\n",
      "        [ 0.7350,  0.8685,  0.8982,  ...,  0.8018,  0.6831,  0.7425],\n",
      "        [ 0.6460,  0.7499,  0.7202,  ...,  0.4903,  0.4161,  0.3420]])\n",
      "torch.Size([11400, 9])\n"
     ]
    },
    {
     "name": "stderr",
     "output_type": "stream",
     "text": [
      "Epoch 0:  20%|█▉        | 36/183 [00:05<00:19,  7.52it/s]"
     ]
    },
    {
     "name": "stdout",
     "output_type": "stream",
     "text": [
      "tensor([[ 6.9055e-01,  7.0538e-01,  6.6830e-01,  ...,  7.4988e-01,\n",
      "          5.9413e-01,  5.4963e-01],\n",
      "        [ 1.4841e+00,  1.4545e+00,  1.3877e+00,  ...,  1.4100e+00,\n",
      "          1.3655e+00,  1.3358e+00],\n",
      "        [ 5.1996e-01,  4.0130e-01,  5.9413e-01,  ...,  8.8338e-01,\n",
      "          8.8338e-01,  9.4271e-01],\n",
      "        ...,\n",
      "        [ 5.2718e-02,  1.5635e-02,  3.0469e-02,  ..., -8.8197e-02,\n",
      "         -4.3697e-02,  7.4968e-02],\n",
      "        [ 8.9801e-02,  2.3052e-02, -6.6144e-03,  ..., -6.6144e-03,\n",
      "          8.2188e-03,  8.0218e-04],\n",
      "        [ 2.7522e-01,  1.7880e-01,  3.0488e-01,  ...,  2.6780e-01,\n",
      "          2.2330e-01,  2.6780e-01]])\n",
      "torch.Size([11400, 9])\n",
      "tensor([[ 0.9056,  0.8760,  0.7944,  ...,  0.8982,  0.8389,  0.8760],\n",
      "        [-3.2551, -3.1068, -2.5505,  ...,  0.6609,  0.8018,  0.9575],\n",
      "        [-0.2217, -0.1327, -0.1104,  ...,  0.1714,  0.1417,  0.2159],\n",
      "        ...,\n",
      "        [ 0.7276,  0.7202,  0.7202,  ...,  0.5941,  0.6238,  0.6312],\n",
      "        [ 0.6460,  0.7128,  0.7054,  ...,  0.6460,  0.7054,  0.6683],\n",
      "        [ 0.4458,  0.4829,  0.4977,  ...,  0.4606,  0.4458,  0.4606]])\n",
      "torch.Size([11400, 9])\n"
     ]
    },
    {
     "name": "stderr",
     "output_type": "stream",
     "text": [
      "Epoch 0:  21%|██        | 38/183 [00:05<00:19,  7.54it/s]"
     ]
    },
    {
     "name": "stdout",
     "output_type": "stream",
     "text": [
      "tensor([[ 0.9872,  1.0688,  1.1281,  ...,  0.9205,  0.9056,  0.8760],\n",
      "        [ 0.3123,  0.6238,  1.1133,  ...,  0.9353,  1.0465,  0.9353],\n",
      "        [-0.3626, -0.2365,  0.2085,  ...,  0.4532,  0.2678,  0.3939],\n",
      "        ...,\n",
      "        [ 0.1121,  0.1640,  0.1269,  ..., -0.0066, -0.0511, -0.0437],\n",
      "        [ 0.2678,  0.2604,  0.2233,  ...,  0.0527,  0.0898,  0.0305],\n",
      "        [ 0.1936,  0.2011,  0.2085,  ...,  0.1788,  0.1640,  0.0972]])\n",
      "torch.Size([11400, 9])\n",
      "tensor([[-2.6692, -2.7063, -2.7137,  ..., -2.7063, -2.7211, -2.6988],\n",
      "        [ 0.8018,  1.0169,  1.0391,  ...,  0.8685,  0.7276,  0.7276],\n",
      "        [-2.3280, -2.2761, -1.8237,  ..., -1.7347, -1.8385, -2.1723],\n",
      "        ...,\n",
      "        [ 0.1269, -0.0289,  0.1046,  ...,  0.1121, -0.0659,  0.0750],\n",
      "        [ 0.0231,  0.2455,  0.1640,  ...,  0.1862,  0.0898,  0.0379],\n",
      "        [ 0.3271,  0.3420,  0.3123,  ...,  0.3197,  0.1788,  0.0453]])\n",
      "torch.Size([11400, 9])\n"
     ]
    },
    {
     "name": "stderr",
     "output_type": "stream",
     "text": [
      "Epoch 0:  22%|██▏       | 40/183 [00:05<00:18,  7.67it/s]"
     ]
    },
    {
     "name": "stdout",
     "output_type": "stream",
     "text": [
      "tensor([[-2.4912, -2.5653, -2.5653,  ..., -2.3206, -2.3354, -2.3651],\n",
      "        [-3.3367, -3.0474, -2.7137,  ..., -2.8917, -3.1290, -3.0623],\n",
      "        [ 0.0231,  0.0898, -0.0289,  ..., -0.1475, -0.0882, -0.0289],\n",
      "        ...,\n",
      "        [ 0.6683,  0.6460,  0.5125,  ...,  0.6905,  0.7128,  0.7276],\n",
      "        [ 0.6609,  0.6312,  0.6015,  ...,  0.7870,  0.6905,  0.5496],\n",
      "        [ 0.6238,  0.6980,  0.7276,  ...,  0.7202,  0.6831,  0.6905]])\n",
      "torch.Size([11400, 9])\n",
      "tensor([[-2.6098, -2.6173, -2.7211,  ..., -2.3354, -2.5431, -2.1797],\n",
      "        [-3.3367, -3.4702, -3.4702,  ..., -3.5517, -3.4034, -3.4183],\n",
      "        [ 0.3271,  0.5051,  0.5200,  ...,  0.5867,  0.5496,  0.5867],\n",
      "        ...,\n",
      "        [-0.0140, -0.0659, -0.1401,  ..., -0.0363, -0.0659, -0.0882],\n",
      "        [ 0.1343,  0.0676, -0.0214,  ...,  0.1195,  0.0527,  0.0824],\n",
      "        [-0.4294, -0.2662, -0.2143,  ..., -1.1784, -1.0820, -1.0746]])\n",
      "torch.Size([11400, 9])\n"
     ]
    },
    {
     "name": "stderr",
     "output_type": "stream",
     "text": [
      "Epoch 0:  23%|██▎       | 42/183 [00:05<00:18,  7.68it/s]"
     ]
    },
    {
     "name": "stdout",
     "output_type": "stream",
     "text": [
      "tensor([[-2.1574, -2.2168, -2.0610,  ..., -2.5653, -2.5283, -2.5653],\n",
      "        [-2.7508, -2.8027, -2.8027,  ..., -3.2180, -3.2625, -3.3812],\n",
      "        [ 0.0453, -0.3997, -0.8002,  ...,  0.1121,  0.1862,  0.3271],\n",
      "        ...,\n",
      "        [ 0.5348,  0.7054,  0.6460,  ...,  0.6609,  0.6386,  0.6609],\n",
      "        [ 0.5422,  0.6386,  0.5867,  ...,  0.6460,  0.7425,  0.6980],\n",
      "        [ 0.3568,  0.3790,  0.3716,  ...,  0.3939,  0.4087,  0.3939]])\n",
      "torch.Size([11400, 9])\n",
      "tensor([[ 3.7885e-02,  1.1205e-01,  6.7552e-02,  ..., -5.8531e-02,\n",
      "          8.0218e-04,  1.0463e-01],\n",
      "        [ 6.9796e-01,  9.3529e-01,  7.4246e-01,  ...,  5.3480e-01,\n",
      "          5.1255e-01,  4.3838e-01],\n",
      "        [ 3.1972e-01,  4.9030e-01,  4.4580e-01,  ...,  3.5680e-01,\n",
      "          4.3838e-01,  3.8647e-01],\n",
      "        ...,\n",
      "        [-5.8531e-02, -1.5495e-01, -1.8461e-01,  ..., -2.8864e-02,\n",
      "         -2.1448e-02,  4.5302e-02],\n",
      "        [ 8.0218e-04, -1.1786e-01, -3.6281e-02,  ...,  1.0463e-01,\n",
      "          1.2688e-01,  1.4913e-01],\n",
      "        [ 2.3813e-01,  2.2330e-01,  1.6397e-01,  ..., -5.1114e-02,\n",
      "         -2.8864e-02, -2.1448e-02]])\n",
      "torch.Size([11400, 9])\n"
     ]
    },
    {
     "name": "stderr",
     "output_type": "stream",
     "text": [
      "Epoch 0:  24%|██▍       | 44/183 [00:06<00:18,  7.54it/s]"
     ]
    },
    {
     "name": "stdout",
     "output_type": "stream",
     "text": [
      "tensor([[0.9130, 0.9798, 0.9946,  ..., 0.9798, 0.9724, 1.0540],\n",
      "        [0.5348, 0.6460, 0.7350,  ..., 0.9056, 0.7795, 0.8908],\n",
      "        [0.7944, 0.6831, 0.7647,  ..., 1.1652, 1.2616, 1.2839],\n",
      "        ...,\n",
      "        [0.7425, 0.8092, 0.7795,  ..., 0.6683, 0.6312, 0.5200],\n",
      "        [0.7573, 0.8018, 0.8092,  ..., 0.7870, 0.6015, 0.5570],\n",
      "        [0.4755, 0.4606, 0.4087,  ..., 0.1936, 0.1936, 0.1788]])\n",
      "torch.Size([11400, 9])\n",
      "tensor([[-2.8027, -2.6543, -2.3725,  ..., -2.5060, -2.6173, -2.6247],\n",
      "        [-2.6469, -2.2464, -2.3725,  ..., -3.2254, -3.2996, -3.1216],\n",
      "        [-1.1043, -1.1488, -1.4751,  ..., -1.7866, -1.7050, -1.6902],\n",
      "        ...,\n",
      "        [-0.2217, -0.1104,  0.0601,  ...,  0.1269,  0.1491,  0.1343],\n",
      "        [ 0.2455,  0.1862,  0.2381,  ...,  0.1640,  0.1417,  0.0601],\n",
      "        [ 0.4235,  0.4606,  0.4235,  ...,  0.4532,  0.4087,  0.4161]])\n",
      "torch.Size([11400, 9])\n"
     ]
    },
    {
     "name": "stderr",
     "output_type": "stream",
     "text": [
      "Epoch 0:  25%|██▌       | 46/183 [00:06<00:17,  7.68it/s]"
     ]
    },
    {
     "name": "stdout",
     "output_type": "stream",
     "text": [
      "tensor([[-0.5629, -0.3478, -0.2217,  ...,  0.4310,  0.4087,  0.2085],\n",
      "        [ 0.2307,  0.2233,  0.2900,  ...,  0.4087,  0.3494,  0.3642],\n",
      "        [-0.4145, -0.5184, -0.5629,  ..., -0.3107, -0.1104, -0.1253],\n",
      "        ...,\n",
      "        [ 0.2011,  0.2752,  0.2826,  ...,  0.5422,  0.5867,  0.5496],\n",
      "        [ 0.2900,  0.3790,  0.4087,  ...,  0.6980,  0.6831,  0.6015],\n",
      "        [-1.2971, -0.8521, -0.7112,  ..., -0.6148, -0.3329, -0.4071]])\n",
      "torch.Size([11400, 9])\n",
      "tensor([[ 0.6312,  0.6238,  0.6460,  ...,  0.7128,  0.6683,  0.6164],\n",
      "        [ 1.4322,  1.3729,  1.4025,  ...,  1.3951,  1.4025,  1.4322],\n",
      "        [ 0.5719,  0.6238,  0.8463,  ...,  0.9501,  0.7202,  0.8685],\n",
      "        ...,\n",
      "        [-0.1104, -0.1549, -0.0734,  ..., -0.0214, -1.0153, -1.3935],\n",
      "        [ 0.1788,  0.1491,  0.0824,  ...,  0.2900,  0.2752,  0.3642],\n",
      "        [-0.2736, -0.1030, -0.1327,  ..., -0.5258, -0.5925, -0.7854]])\n",
      "torch.Size([11400, 9])\n"
     ]
    },
    {
     "name": "stderr",
     "output_type": "stream",
     "text": [
      "Epoch 0:  26%|██▌       | 48/183 [00:06<00:17,  7.66it/s]"
     ]
    },
    {
     "name": "stdout",
     "output_type": "stream",
     "text": [
      "tensor([[-2.3725, -2.2316, -2.2168,  ..., -2.6247, -2.4541, -2.4170],\n",
      "        [-2.3725, -2.6098, -2.6321,  ..., -3.1216, -2.9362, -3.2180],\n",
      "        [-1.4751, -1.5789, -1.7273,  ..., -1.6902, -1.6383, -1.4751],\n",
      "        ...,\n",
      "        [ 0.4977,  0.5274,  0.5719,  ...,  0.4458,  0.4977,  0.4680],\n",
      "        [ 0.4755,  0.6090,  0.7276,  ...,  0.4013,  0.5200,  0.4903],\n",
      "        [ 0.8018,  0.6905,  0.7128,  ...,  0.7795,  0.7350, -0.0734]])\n",
      "torch.Size([11400, 9])\n",
      "tensor([[-2.6395, -2.7063, -2.6024,  ..., -2.8101, -2.8472, -2.7730],\n",
      "        [-3.3738, -3.4924, -3.4702,  ..., -3.6556, -3.4183, -3.4850],\n",
      "        [-0.3255, -0.1401, -0.2959,  ...,  0.0750,  0.0082, -0.1994],\n",
      "        ...,\n",
      "        [-0.0956, -0.0511, -0.0140,  ..., -0.0511, -0.1401, -0.1401],\n",
      "        [ 0.1195,  0.0972,  0.1195,  ...,  0.0156, -0.0511,  0.0082],\n",
      "        [ 0.0156,  0.0601, -0.0363,  ..., -0.0956, -0.0734, -0.0437]])\n",
      "torch.Size([11400, 9])\n"
     ]
    },
    {
     "name": "stderr",
     "output_type": "stream",
     "text": [
      "Epoch 0:  27%|██▋       | 50/183 [00:06<00:17,  7.76it/s]"
     ]
    },
    {
     "name": "stdout",
     "output_type": "stream",
     "text": [
      "tensor([[-2.1945, -2.1055, -1.9720,  ..., -1.8533, -1.9423, -1.9275],\n",
      "        [-0.1994,  0.1121,  0.1936,  ...,  0.3271,  0.3642,  0.3568],\n",
      "        [-1.4751, -1.2452, -1.3194,  ...,  0.5793,  0.4235,  0.2381],\n",
      "        ...,\n",
      "        [ 0.6164,  0.7054,  0.6535,  ...,  0.6386,  0.6090,  0.4755],\n",
      "        [ 0.6090,  0.6535,  0.6535,  ...,  0.6757,  0.6164,  0.5793],\n",
      "        [ 0.5570,  0.6386,  0.6386,  ...,  0.7870,  0.7425,  0.6683]])\n",
      "torch.Size([11400, 9])\n",
      "tensor([[0.4458, 0.5274, 0.5125,  ..., 0.7350, 0.6238, 0.4606],\n",
      "        [1.1504, 1.1800, 1.0391,  ..., 1.4174, 1.4693, 1.6250],\n",
      "        [0.8240, 0.9724, 0.9575,  ..., 0.7647, 0.8018, 0.8463],\n",
      "        ...,\n",
      "        [0.5200, 0.6386, 0.6609,  ..., 0.7128, 0.7054, 0.6757],\n",
      "        [0.3494, 0.5570, 0.6312,  ..., 0.5422, 0.6683, 0.6980],\n",
      "        [0.6386, 0.6460, 0.5793,  ..., 0.6238, 0.6609, 0.5793]])\n",
      "torch.Size([11400, 9])\n"
     ]
    },
    {
     "name": "stderr",
     "output_type": "stream",
     "text": [
      "Epoch 0:  28%|██▊       | 52/183 [00:07<00:18,  7.21it/s]"
     ]
    },
    {
     "name": "stdout",
     "output_type": "stream",
     "text": [
      "tensor([[ 0.6386,  0.5941,  0.6386,  ...,  0.5570,  0.5200,  0.5867],\n",
      "        [ 1.4322,  1.3358,  1.4470,  ..., -2.1129, -1.7347, -1.5048],\n",
      "        [-0.8892, -0.5925, -0.5925,  ..., -1.7273, -1.6308, -1.4084],\n",
      "        ...,\n",
      "        [ 0.7276,  0.6460,  0.7721,  ...,  0.6609,  0.6238,  0.6460],\n",
      "        [ 0.5125,  0.5422,  0.5645,  ...,  0.5200,  0.5348,  0.5793],\n",
      "        [ 0.6386,  0.6980,  0.8092,  ...,  0.1862,  0.2307,  0.2085]])\n",
      "torch.Size([11400, 9])\n",
      "tensor([[ 0.1343,  0.0601, -0.0140,  ..., -0.0734, -0.1327, -0.1624],\n",
      "        [ 1.4322,  1.1875,  0.9130,  ...,  0.9650,  1.2023,  1.0836],\n",
      "        [ 0.4161,  0.5793,  0.4384,  ...,  0.8315,  0.9501,  0.7721],\n",
      "        ...,\n",
      "        [ 0.0898,  0.1491,  0.1269,  ...,  0.2530,  0.2678,  0.3420],\n",
      "        [ 0.2159,  0.1936,  0.2233,  ...,  0.3865,  0.3939,  0.4087],\n",
      "        [-0.9263, -0.5480, -0.6370,  ..., -0.8892, -0.7779, -0.6519]])\n"
     ]
    },
    {
     "name": "stderr",
     "output_type": "stream",
     "text": [
      "Epoch 0:  29%|██▉       | 53/183 [00:07<00:17,  7.23it/s]"
     ]
    },
    {
     "name": "stdout",
     "output_type": "stream",
     "text": [
      "torch.Size([11400, 9])\n",
      "tensor([[-3.4183, -3.2773, -2.9510,  ..., -3.5592, -3.2773, -2.7730],\n",
      "        [-0.3478, -0.0659, -0.0808,  ..., -0.0585, -0.0214, -0.1253],\n",
      "        [-1.2155, -0.5703, -0.3033,  ..., -0.1772, -0.1846, -0.0956],\n",
      "        ...,\n",
      "        [ 0.5422,  0.4161,  0.1566,  ...,  0.0972,  0.3494,  0.2011],\n",
      "        [ 0.4161,  0.5348,  0.1491,  ...,  0.1417,  0.0676,  0.2975],\n",
      "        [ 0.8166,  0.8908,  0.9056,  ...,  0.8018,  0.6312,  0.6015]])\n",
      "torch.Size([11400, 9])\n"
     ]
    },
    {
     "name": "stderr",
     "output_type": "stream",
     "text": [
      "Epoch 0:  30%|███       | 55/183 [00:07<00:19,  6.72it/s]"
     ]
    },
    {
     "name": "stdout",
     "output_type": "stream",
     "text": [
      "tensor([[-2.8546, -3.0178, -2.8027,  ..., -2.0462, -0.7779, -0.0956],\n",
      "        [-3.2551, -3.3218, -3.3960,  ..., -3.1958, -3.2922, -3.0178],\n",
      "        [ 0.4903,  0.6238,  0.6238,  ...,  0.6535,  0.6312,  0.5348],\n",
      "        ...,\n",
      "        [ 0.2381,  0.3049,  0.2900,  ...,  0.2975,  0.2455,  0.2455],\n",
      "        [ 0.3790,  0.4161,  0.4532,  ...,  0.3049,  0.3420,  0.1121],\n",
      "        [-0.0734, -0.0214,  0.0898,  ...,  0.4235,  0.4903,  0.5125]])\n",
      "torch.Size([11400, 9])\n",
      "tensor([[-3.0252, -3.2180, -3.2403,  ..., -2.6840, -2.7063, -2.8620],\n",
      "        [-3.7001, -3.6778, -3.3367,  ..., -3.6482, -3.6185, -3.5443],\n",
      "        [ 0.2530,  0.1491,  0.2530,  ...,  0.5125,  0.5051,  0.4755],\n",
      "        ...,\n",
      "        [ 0.2159,  0.3271,  0.4013,  ...,  0.2307,  0.2604,  0.3271],\n",
      "        [ 0.2826,  0.2085,  0.2159,  ...,  0.2381,  0.3049,  0.2975],\n",
      "        [-2.0462, -1.4232, -1.7718,  ..., -0.0289, -0.1104, -0.0511]])\n"
     ]
    },
    {
     "name": "stderr",
     "output_type": "stream",
     "text": [
      "Epoch 0:  31%|███       | 56/183 [00:07<00:23,  5.51it/s]"
     ]
    },
    {
     "name": "stdout",
     "output_type": "stream",
     "text": [
      "torch.Size([11400, 9])\n",
      "tensor([[ 0.7721,  0.8240,  0.7202,  ...,  0.8463,  0.6535,  0.4606],\n",
      "        [ 1.4396,  1.5731,  1.4174,  ...,  1.5064,  1.4470,  1.5286],\n",
      "        [ 0.9872,  0.9724,  1.0688,  ...,  0.9353,  0.7573,  0.8315],\n",
      "        ...,\n",
      "        [-0.0437,  0.0527, -0.1994,  ...,  0.4903,  0.5125,  0.2975],\n",
      "        [ 0.1343, -0.3997,  0.0527,  ...,  0.0676,  0.2604,  0.1714],\n",
      "        [ 0.6238,  0.6460,  0.6905,  ...,  0.6980,  0.6609,  0.7128]])\n"
     ]
    },
    {
     "name": "stderr",
     "output_type": "stream",
     "text": [
      "Epoch 0:  31%|███       | 57/183 [00:08<00:22,  5.53it/s]"
     ]
    },
    {
     "name": "stdout",
     "output_type": "stream",
     "text": [
      "torch.Size([11400, 9])\n",
      "tensor([[ 1.1355,  0.9056,  0.7202,  ...,  0.6312,  0.7573,  0.6683],\n",
      "        [ 0.1269,  0.7647,  0.7870,  ...,  0.4458,  0.5941,  0.5719],\n",
      "        [ 0.5348,  0.4977,  0.6090,  ...,  0.6980,  0.8315,  0.7944],\n",
      "        ...,\n",
      "        [ 0.1491,  0.0824,  0.0898,  ..., -0.1030, -0.0140,  0.0972],\n",
      "        [ 0.2381,  0.2604,  0.3123,  ...,  0.0379,  0.1417,  0.2307],\n",
      "        [ 0.1862,  0.1788,  0.1714,  ...,  0.2011,  0.1936,  0.0972]])\n",
      "torch.Size([11400, 9])\n"
     ]
    },
    {
     "name": "stderr",
     "output_type": "stream",
     "text": [
      "Epoch 0:  32%|███▏      | 59/183 [00:08<00:22,  5.44it/s]"
     ]
    },
    {
     "name": "stdout",
     "output_type": "stream",
     "text": [
      "tensor([[0.7721, 0.7425, 0.7721,  ..., 0.9798, 0.8166, 0.8685],\n",
      "        [0.4680, 0.7202, 0.5570,  ..., 0.8315, 0.9798, 0.9872],\n",
      "        [0.4384, 0.4532, 0.6535,  ..., 0.6164, 0.8166, 0.8315],\n",
      "        ...,\n",
      "        [0.5274, 0.7128, 0.6905,  ..., 0.8389, 0.7573, 0.7499],\n",
      "        [0.5422, 0.7499, 0.6831,  ..., 0.8389, 0.8389, 0.3939],\n",
      "        [0.6090, 0.7647, 0.8463,  ..., 0.6312, 0.6609, 0.6609]])\n",
      "torch.Size([11400, 9])\n",
      "tensor([[-0.0214, -0.1920, -0.2143,  ..., -1.4974, -1.7050, -1.9498],\n",
      "        [ 0.5570,  0.3568, -0.2217,  ..., -2.5208, -2.5802, -2.8694],\n",
      "        [-0.8224, -0.8744, -0.6593,  ..., -0.2069, -0.3255, -0.4368],\n",
      "        ...,\n",
      "        [ 0.7054,  0.7128,  0.5793,  ...,  0.6015,  0.7350,  0.6980],\n",
      "        [ 0.5348,  0.5422,  0.4977,  ...,  0.6831,  0.7425,  0.7721],\n",
      "        [ 0.6164,  0.6980,  0.5941,  ...,  0.2307,  0.2381,  0.3568]])\n"
     ]
    },
    {
     "name": "stderr",
     "output_type": "stream",
     "text": [
      "Epoch 0:  33%|███▎      | 60/183 [00:08<00:22,  5.49it/s]"
     ]
    },
    {
     "name": "stdout",
     "output_type": "stream",
     "text": [
      "torch.Size([11400, 9])\n",
      "tensor([[ 0.2233,  0.1417,  0.1640,  ...,  0.5051,  0.5645,  0.1417],\n",
      "        [ 0.3420,  0.3494,  0.2381,  ...,  0.2455,  0.3642,  0.2455],\n",
      "        [-1.4454, -1.4529, -1.2823,  ..., -1.5270, -1.1339, -1.3045],\n",
      "        ...,\n",
      "        [ 0.8537,  0.8240,  0.6238,  ...,  0.7573,  0.8389,  0.7944],\n",
      "        [ 0.8018,  0.6980,  0.8092,  ...,  0.7870,  0.8092,  0.7944],\n",
      "        [ 0.6460,  0.5348,  0.7054,  ...,  0.7647,  0.6312,  0.6238]])\n"
     ]
    },
    {
     "name": "stderr",
     "output_type": "stream",
     "text": [
      "Epoch 0:  33%|███▎      | 61/183 [00:08<00:17,  6.92it/s]"
     ]
    },
    {
     "name": "stdout",
     "output_type": "stream",
     "text": [
      "torch.Size([11400, 9])\n"
     ]
    },
    {
     "name": "stderr",
     "output_type": "stream",
     "text": [
      "\n"
     ]
    },
    {
     "ename": "KeyboardInterrupt",
     "evalue": "",
     "output_type": "error",
     "traceback": [
      "\u001b[0;31m---------------------------------------------------------------------------\u001b[0m",
      "\u001b[0;31mKeyboardInterrupt\u001b[0m                         Traceback (most recent call last)",
      "Cell \u001b[0;32mIn[40], line 1\u001b[0m\n\u001b[0;32m----> 1\u001b[0m model \u001b[39m=\u001b[39m model_train(train_dataloader, val_dataloader, config, device)\n",
      "Cell \u001b[0;32mIn[25], line 31\u001b[0m, in \u001b[0;36mmodel_train\u001b[0;34m(train_dataloader, val_dataloader, config, device)\u001b[0m\n\u001b[1;32m     29\u001b[0m \u001b[39m# For every epoch, train the model on training dataset. Evaluate model on validation dataset\u001b[39;00m\n\u001b[1;32m     30\u001b[0m \u001b[39mfor\u001b[39;00m epoch \u001b[39min\u001b[39;00m \u001b[39mrange\u001b[39m(config[\u001b[39m'\u001b[39m\u001b[39mEPOCHS\u001b[39m\u001b[39m'\u001b[39m]):\n\u001b[0;32m---> 31\u001b[0m     loss \u001b[39m=\u001b[39m train(model, device, train_dataloader, optimizer, loss_fn, epoch)\n\u001b[1;32m     32\u001b[0m     \u001b[39mprint\u001b[39m(\u001b[39mf\u001b[39m\u001b[39m\"\u001b[39m\u001b[39mLoss: \u001b[39m\u001b[39m{\u001b[39;00mloss\u001b[39m:\u001b[39;00m\u001b[39m.3f\u001b[39m\u001b[39m}\u001b[39;00m\u001b[39m\"\u001b[39m)\n\u001b[1;32m     33\u001b[0m     \u001b[39mif\u001b[39;00m epoch \u001b[39m%\u001b[39m \u001b[39m5\u001b[39m \u001b[39m==\u001b[39m \u001b[39m0\u001b[39m:\n",
      "Cell \u001b[0;32mIn[39], line 56\u001b[0m, in \u001b[0;36mtrain\u001b[0;34m(model, device, dataloader, optimizer, loss_fn, epoch)\u001b[0m\n\u001b[1;32m     46\u001b[0m \u001b[39m\"\"\"\u001b[39;00m\n\u001b[1;32m     47\u001b[0m \u001b[39mEvaluation function to evaluate model on data\u001b[39;00m\n\u001b[1;32m     48\u001b[0m \u001b[39m:param model Model to evaluate\u001b[39;00m\n\u001b[0;32m   (...)\u001b[0m\n\u001b[1;32m     53\u001b[0m \u001b[39m:param epoch Current epoch\u001b[39;00m\n\u001b[1;32m     54\u001b[0m \u001b[39m\"\"\"\u001b[39;00m\n\u001b[1;32m     55\u001b[0m model\u001b[39m.\u001b[39mtrain()\n\u001b[0;32m---> 56\u001b[0m \u001b[39mfor\u001b[39;00m _, batch \u001b[39min\u001b[39;00m \u001b[39menumerate\u001b[39m(tqdm(dataloader, desc\u001b[39m=\u001b[39m\u001b[39mf\u001b[39m\u001b[39m\"\u001b[39m\u001b[39mEpoch \u001b[39m\u001b[39m{\u001b[39;00mepoch\u001b[39m}\u001b[39;00m\u001b[39m\"\u001b[39m)):\n\u001b[1;32m     57\u001b[0m     batch \u001b[39m=\u001b[39m batch\u001b[39m.\u001b[39mto(device)\n\u001b[1;32m     58\u001b[0m     optimizer\u001b[39m.\u001b[39mzero_grad()\n",
      "File \u001b[0;32m~/opt/anaconda3/envs/.STGATenv/lib/python3.9/site-packages/tqdm/std.py:1195\u001b[0m, in \u001b[0;36mtqdm.__iter__\u001b[0;34m(self)\u001b[0m\n\u001b[1;32m   1192\u001b[0m time \u001b[39m=\u001b[39m \u001b[39mself\u001b[39m\u001b[39m.\u001b[39m_time\n\u001b[1;32m   1194\u001b[0m \u001b[39mtry\u001b[39;00m:\n\u001b[0;32m-> 1195\u001b[0m     \u001b[39mfor\u001b[39;00m obj \u001b[39min\u001b[39;00m iterable:\n\u001b[1;32m   1196\u001b[0m         \u001b[39myield\u001b[39;00m obj\n\u001b[1;32m   1197\u001b[0m         \u001b[39m# Update and possibly print the progressbar.\u001b[39;00m\n\u001b[1;32m   1198\u001b[0m         \u001b[39m# Note: does not call self.update(1) for speed optimisation.\u001b[39;00m\n",
      "File \u001b[0;32m~/opt/anaconda3/envs/.STGATenv/lib/python3.9/site-packages/torch/utils/data/dataloader.py:628\u001b[0m, in \u001b[0;36m_BaseDataLoaderIter.__next__\u001b[0;34m(self)\u001b[0m\n\u001b[1;32m    625\u001b[0m \u001b[39mif\u001b[39;00m \u001b[39mself\u001b[39m\u001b[39m.\u001b[39m_sampler_iter \u001b[39mis\u001b[39;00m \u001b[39mNone\u001b[39;00m:\n\u001b[1;32m    626\u001b[0m     \u001b[39m# TODO(https://github.com/pytorch/pytorch/issues/76750)\u001b[39;00m\n\u001b[1;32m    627\u001b[0m     \u001b[39mself\u001b[39m\u001b[39m.\u001b[39m_reset()  \u001b[39m# type: ignore[call-arg]\u001b[39;00m\n\u001b[0;32m--> 628\u001b[0m data \u001b[39m=\u001b[39m \u001b[39mself\u001b[39;49m\u001b[39m.\u001b[39;49m_next_data()\n\u001b[1;32m    629\u001b[0m \u001b[39mself\u001b[39m\u001b[39m.\u001b[39m_num_yielded \u001b[39m+\u001b[39m\u001b[39m=\u001b[39m \u001b[39m1\u001b[39m\n\u001b[1;32m    630\u001b[0m \u001b[39mif\u001b[39;00m \u001b[39mself\u001b[39m\u001b[39m.\u001b[39m_dataset_kind \u001b[39m==\u001b[39m _DatasetKind\u001b[39m.\u001b[39mIterable \u001b[39mand\u001b[39;00m \\\n\u001b[1;32m    631\u001b[0m         \u001b[39mself\u001b[39m\u001b[39m.\u001b[39m_IterableDataset_len_called \u001b[39mis\u001b[39;00m \u001b[39mnot\u001b[39;00m \u001b[39mNone\u001b[39;00m \u001b[39mand\u001b[39;00m \\\n\u001b[1;32m    632\u001b[0m         \u001b[39mself\u001b[39m\u001b[39m.\u001b[39m_num_yielded \u001b[39m>\u001b[39m \u001b[39mself\u001b[39m\u001b[39m.\u001b[39m_IterableDataset_len_called:\n",
      "File \u001b[0;32m~/opt/anaconda3/envs/.STGATenv/lib/python3.9/site-packages/torch/utils/data/dataloader.py:671\u001b[0m, in \u001b[0;36m_SingleProcessDataLoaderIter._next_data\u001b[0;34m(self)\u001b[0m\n\u001b[1;32m    669\u001b[0m \u001b[39mdef\u001b[39;00m \u001b[39m_next_data\u001b[39m(\u001b[39mself\u001b[39m):\n\u001b[1;32m    670\u001b[0m     index \u001b[39m=\u001b[39m \u001b[39mself\u001b[39m\u001b[39m.\u001b[39m_next_index()  \u001b[39m# may raise StopIteration\u001b[39;00m\n\u001b[0;32m--> 671\u001b[0m     data \u001b[39m=\u001b[39m \u001b[39mself\u001b[39;49m\u001b[39m.\u001b[39;49m_dataset_fetcher\u001b[39m.\u001b[39;49mfetch(index)  \u001b[39m# may raise StopIteration\u001b[39;00m\n\u001b[1;32m    672\u001b[0m     \u001b[39mif\u001b[39;00m \u001b[39mself\u001b[39m\u001b[39m.\u001b[39m_pin_memory:\n\u001b[1;32m    673\u001b[0m         data \u001b[39m=\u001b[39m _utils\u001b[39m.\u001b[39mpin_memory\u001b[39m.\u001b[39mpin_memory(data, \u001b[39mself\u001b[39m\u001b[39m.\u001b[39m_pin_memory_device)\n",
      "File \u001b[0;32m~/opt/anaconda3/envs/.STGATenv/lib/python3.9/site-packages/torch/utils/data/_utils/fetch.py:61\u001b[0m, in \u001b[0;36m_MapDatasetFetcher.fetch\u001b[0;34m(self, possibly_batched_index)\u001b[0m\n\u001b[1;32m     59\u001b[0m \u001b[39melse\u001b[39;00m:\n\u001b[1;32m     60\u001b[0m     data \u001b[39m=\u001b[39m \u001b[39mself\u001b[39m\u001b[39m.\u001b[39mdataset[possibly_batched_index]\n\u001b[0;32m---> 61\u001b[0m \u001b[39mreturn\u001b[39;00m \u001b[39mself\u001b[39;49m\u001b[39m.\u001b[39;49mcollate_fn(data)\n",
      "File \u001b[0;32m~/opt/anaconda3/envs/.STGATenv/lib/python3.9/site-packages/torch_geometric/loader/dataloader.py:19\u001b[0m, in \u001b[0;36mCollater.__call__\u001b[0;34m(self, batch)\u001b[0m\n\u001b[1;32m     17\u001b[0m elem \u001b[39m=\u001b[39m batch[\u001b[39m0\u001b[39m]\n\u001b[1;32m     18\u001b[0m \u001b[39mif\u001b[39;00m \u001b[39misinstance\u001b[39m(elem, BaseData):\n\u001b[0;32m---> 19\u001b[0m     \u001b[39mreturn\u001b[39;00m Batch\u001b[39m.\u001b[39;49mfrom_data_list(batch, \u001b[39mself\u001b[39;49m\u001b[39m.\u001b[39;49mfollow_batch,\n\u001b[1;32m     20\u001b[0m                                 \u001b[39mself\u001b[39;49m\u001b[39m.\u001b[39;49mexclude_keys)\n\u001b[1;32m     21\u001b[0m \u001b[39melif\u001b[39;00m \u001b[39misinstance\u001b[39m(elem, torch\u001b[39m.\u001b[39mTensor):\n\u001b[1;32m     22\u001b[0m     \u001b[39mreturn\u001b[39;00m default_collate(batch)\n",
      "File \u001b[0;32m~/opt/anaconda3/envs/.STGATenv/lib/python3.9/site-packages/torch_geometric/data/batch.py:76\u001b[0m, in \u001b[0;36mBatch.from_data_list\u001b[0;34m(cls, data_list, follow_batch, exclude_keys)\u001b[0m\n\u001b[1;32m     64\u001b[0m \u001b[39m@classmethod\u001b[39m\n\u001b[1;32m     65\u001b[0m \u001b[39mdef\u001b[39;00m \u001b[39mfrom_data_list\u001b[39m(\u001b[39mcls\u001b[39m, data_list: List[BaseData],\n\u001b[1;32m     66\u001b[0m                    follow_batch: Optional[List[\u001b[39mstr\u001b[39m]] \u001b[39m=\u001b[39m \u001b[39mNone\u001b[39;00m,\n\u001b[1;32m     67\u001b[0m                    exclude_keys: Optional[List[\u001b[39mstr\u001b[39m]] \u001b[39m=\u001b[39m \u001b[39mNone\u001b[39;00m):\n\u001b[1;32m     68\u001b[0m     \u001b[39mr\u001b[39m\u001b[39m\"\"\"Constructs a :class:`~torch_geometric.data.Batch` object from a\u001b[39;00m\n\u001b[1;32m     69\u001b[0m \u001b[39m    Python list of :class:`~torch_geometric.data.Data` or\u001b[39;00m\n\u001b[1;32m     70\u001b[0m \u001b[39m    :class:`~torch_geometric.data.HeteroData` objects.\u001b[39;00m\n\u001b[0;32m   (...)\u001b[0m\n\u001b[1;32m     73\u001b[0m \u001b[39m    :obj:`follow_batch`.\u001b[39;00m\n\u001b[1;32m     74\u001b[0m \u001b[39m    Will exclude any keys given in :obj:`exclude_keys`.\"\"\"\u001b[39;00m\n\u001b[0;32m---> 76\u001b[0m     batch, slice_dict, inc_dict \u001b[39m=\u001b[39m collate(\n\u001b[1;32m     77\u001b[0m         \u001b[39mcls\u001b[39;49m,\n\u001b[1;32m     78\u001b[0m         data_list\u001b[39m=\u001b[39;49mdata_list,\n\u001b[1;32m     79\u001b[0m         increment\u001b[39m=\u001b[39;49m\u001b[39mTrue\u001b[39;49;00m,\n\u001b[1;32m     80\u001b[0m         add_batch\u001b[39m=\u001b[39;49m\u001b[39mnot\u001b[39;49;00m \u001b[39misinstance\u001b[39;49m(data_list[\u001b[39m0\u001b[39;49m], Batch),\n\u001b[1;32m     81\u001b[0m         follow_batch\u001b[39m=\u001b[39;49mfollow_batch,\n\u001b[1;32m     82\u001b[0m         exclude_keys\u001b[39m=\u001b[39;49mexclude_keys,\n\u001b[1;32m     83\u001b[0m     )\n\u001b[1;32m     85\u001b[0m     batch\u001b[39m.\u001b[39m_num_graphs \u001b[39m=\u001b[39m \u001b[39mlen\u001b[39m(data_list)\n\u001b[1;32m     86\u001b[0m     batch\u001b[39m.\u001b[39m_slice_dict \u001b[39m=\u001b[39m slice_dict\n",
      "File \u001b[0;32m~/opt/anaconda3/envs/.STGATenv/lib/python3.9/site-packages/torch_geometric/data/collate.py:84\u001b[0m, in \u001b[0;36mcollate\u001b[0;34m(cls, data_list, increment, add_batch, follow_batch, exclude_keys)\u001b[0m\n\u001b[1;32m     81\u001b[0m     \u001b[39mcontinue\u001b[39;00m\n\u001b[1;32m     83\u001b[0m \u001b[39m# Collate attributes into a unified representation:\u001b[39;00m\n\u001b[0;32m---> 84\u001b[0m value, slices, incs \u001b[39m=\u001b[39m _collate(attr, values, data_list, stores,\n\u001b[1;32m     85\u001b[0m                                increment)\n\u001b[1;32m     87\u001b[0m \u001b[39mif\u001b[39;00m \u001b[39misinstance\u001b[39m(value, Tensor) \u001b[39mand\u001b[39;00m value\u001b[39m.\u001b[39mis_cuda:\n\u001b[1;32m     88\u001b[0m     device \u001b[39m=\u001b[39m value\u001b[39m.\u001b[39mdevice\n",
      "File \u001b[0;32m~/opt/anaconda3/envs/.STGATenv/lib/python3.9/site-packages/torch_geometric/data/collate.py:135\u001b[0m, in \u001b[0;36m_collate\u001b[0;34m(key, values, data_list, stores, increment)\u001b[0m\n\u001b[1;32m    133\u001b[0m     incs \u001b[39m=\u001b[39m get_incs(key, values, data_list, stores)\n\u001b[1;32m    134\u001b[0m     \u001b[39mif\u001b[39;00m incs\u001b[39m.\u001b[39mdim() \u001b[39m>\u001b[39m \u001b[39m1\u001b[39m \u001b[39mor\u001b[39;00m \u001b[39mint\u001b[39m(incs[\u001b[39m-\u001b[39m\u001b[39m1\u001b[39m]) \u001b[39m!=\u001b[39m \u001b[39m0\u001b[39m:\n\u001b[0;32m--> 135\u001b[0m         values \u001b[39m=\u001b[39m [\n\u001b[1;32m    136\u001b[0m             value \u001b[39m+\u001b[39m inc\u001b[39m.\u001b[39mto(value\u001b[39m.\u001b[39mdevice)\n\u001b[1;32m    137\u001b[0m             \u001b[39mfor\u001b[39;00m value, inc \u001b[39min\u001b[39;00m \u001b[39mzip\u001b[39m(values, incs)\n\u001b[1;32m    138\u001b[0m         ]\n\u001b[1;32m    139\u001b[0m \u001b[39melse\u001b[39;00m:\n\u001b[1;32m    140\u001b[0m     incs \u001b[39m=\u001b[39m \u001b[39mNone\u001b[39;00m\n",
      "File \u001b[0;32m~/opt/anaconda3/envs/.STGATenv/lib/python3.9/site-packages/torch_geometric/data/collate.py:136\u001b[0m, in \u001b[0;36m<listcomp>\u001b[0;34m(.0)\u001b[0m\n\u001b[1;32m    133\u001b[0m     incs \u001b[39m=\u001b[39m get_incs(key, values, data_list, stores)\n\u001b[1;32m    134\u001b[0m     \u001b[39mif\u001b[39;00m incs\u001b[39m.\u001b[39mdim() \u001b[39m>\u001b[39m \u001b[39m1\u001b[39m \u001b[39mor\u001b[39;00m \u001b[39mint\u001b[39m(incs[\u001b[39m-\u001b[39m\u001b[39m1\u001b[39m]) \u001b[39m!=\u001b[39m \u001b[39m0\u001b[39m:\n\u001b[1;32m    135\u001b[0m         values \u001b[39m=\u001b[39m [\n\u001b[0;32m--> 136\u001b[0m             value \u001b[39m+\u001b[39;49m inc\u001b[39m.\u001b[39;49mto(value\u001b[39m.\u001b[39;49mdevice)\n\u001b[1;32m    137\u001b[0m             \u001b[39mfor\u001b[39;00m value, inc \u001b[39min\u001b[39;00m \u001b[39mzip\u001b[39m(values, incs)\n\u001b[1;32m    138\u001b[0m         ]\n\u001b[1;32m    139\u001b[0m \u001b[39melse\u001b[39;00m:\n\u001b[1;32m    140\u001b[0m     incs \u001b[39m=\u001b[39m \u001b[39mNone\u001b[39;00m\n",
      "\u001b[0;31mKeyboardInterrupt\u001b[0m: "
     ]
    }
   ],
   "source": [
    "model = model_train(train_dataloader, val_dataloader, config, device)"
   ]
  },
  {
   "cell_type": "markdown",
   "id": "7df194c1-5d8c-4013-8e01-13535415fba2",
   "metadata": {
    "tags": []
   },
   "source": [
    "## Test the model"
   ]
  },
  {
   "cell_type": "code",
   "execution_count": 41,
   "id": "708971fd-a566-4d45-8116-12472f8dc224",
   "metadata": {},
   "outputs": [
    {
     "name": "stdout",
     "output_type": "stream",
     "text": [
      "tensor([[1.0985, 0.9798, 1.0095,  ..., 0.8834, 0.8315, 0.6980],\n",
      "        [0.8685, 1.0465, 1.0169,  ..., 0.7202, 0.7795, 0.8240],\n",
      "        [0.8611, 0.8240, 0.6683,  ..., 0.6905, 0.5793, 0.6312],\n",
      "        ...,\n",
      "        [0.6386, 0.6164, 0.5719,  ..., 0.6609, 0.6535, 0.7350],\n",
      "        [0.6460, 0.6609, 0.6831,  ..., 0.6905, 0.7054, 0.7721],\n",
      "        [0.6831, 0.6905, 0.7054,  ..., 0.8389, 0.8389, 0.8611]])\n",
      "torch.Size([27, 11400, 9])\n",
      "tensor([[ 0.6609,  0.6238,  0.9575,  ...,  1.0243,  0.8611,  0.9650],\n",
      "        [ 0.5719,  0.6609,  0.7647,  ...,  0.7795,  0.6683,  0.6238],\n",
      "        [ 0.6312,  0.6386,  0.8092,  ...,  0.8463,  0.8908,  0.9205],\n",
      "        ...,\n",
      "        [ 0.2307,  0.3494,  0.2604,  ...,  0.2307,  0.2085,  0.1491],\n",
      "        [ 0.2752, -0.8299, -1.3787,  ..., -0.0659,  0.0601,  0.0379],\n",
      "        [-0.0066,  0.2233,  0.2085,  ...,  0.0972,  0.1195,  0.2900]])\n",
      "tensor([[-2.5134, -2.3725, -2.4986,  ..., -2.4912, -2.6098, -2.7730],\n",
      "        [ 0.7425,  0.7795,  0.8240,  ...,  0.5719,  0.5570,  0.4829],\n",
      "        [-1.7495, -2.0388, -1.7569,  ..., -1.6457, -1.5196, -1.2378],\n",
      "        ...,\n",
      "        [ 0.1269,  0.1046,  0.0527,  ...,  0.0082,  0.0082,  0.0898],\n",
      "        [ 0.1195,  0.1121,  0.2085,  ...,  0.0379,  0.0750,  0.0750],\n",
      "        [ 0.1121,  0.1862,  0.1195,  ..., -0.0066, -0.1030, -0.2439]])\n",
      "tensor([[-6.2961e-01, -2.2170e-01,  1.5635e-02,  ..., -3.1811e-01,\n",
      "         -2.8864e-02,  2.9005e-01],\n",
      "        [-5.9253e-01, -5.4061e-01, -1.0894e+00,  ..., -2.4244e+00,\n",
      "         -2.4244e+00, -2.5283e+00],\n",
      "        [-1.9868e+00, -1.7347e+00, -1.6086e+00,  ..., -3.8486e-01,\n",
      "         -4.2936e-01, -5.4061e-01],\n",
      "        ...,\n",
      "        [ 1.1205e-01,  8.0218e-04,  8.9801e-02,  ...,  3.4938e-01,\n",
      "          2.9005e-01,  2.6038e-01],\n",
      "        [ 1.0463e-01,  2.2330e-01,  2.5297e-01,  ...,  3.9388e-01,\n",
      "          2.7522e-01,  3.3455e-01],\n",
      "        [-8.6694e-01, -1.0153e+00, -8.2986e-01,  ..., -1.2600e+00,\n",
      "         -1.4084e+00, -1.0820e+00]])\n",
      "tensor([[-2.6173e+00, -2.5876e+00, -2.6988e+00,  ...,  9.7218e-02,\n",
      "          5.0513e-01,  5.7188e-01],\n",
      "        [-3.3144e+00, -3.3812e+00, -3.3812e+00,  ..., -3.3070e+00,\n",
      "         -3.3070e+00, -3.3070e+00],\n",
      "        [ 4.6805e-01,  4.0872e-01,  5.7188e-01,  ...,  4.2355e-01,\n",
      "          5.3480e-01,  4.6063e-01],\n",
      "        ...,\n",
      "        [ 3.2713e-01,  3.4938e-01,  3.1972e-01,  ...,  5.7188e-01,\n",
      "          5.8671e-01,  5.5705e-01],\n",
      "        [ 2.0105e-01,  1.5635e-02,  8.0218e-04,  ...,  3.7163e-01,\n",
      "          3.3455e-01,  3.5680e-01],\n",
      "        [ 1.4913e-01,  4.0130e-01,  3.9388e-01,  ...,  9.4271e-01,\n",
      "          8.1663e-01,  7.3505e-01]])\n",
      "tensor([[ 0.6535,  0.5570,  0.7870,  ...,  0.7350,  0.7795,  0.8018],\n",
      "        [ 0.6460,  0.7425,  0.7573,  ...,  0.6460,  0.6460,  0.5422],\n",
      "        [ 0.4087,  0.4532,  0.5200,  ...,  0.7202,  0.6683,  0.5496],\n",
      "        ...,\n",
      "        [ 0.5274,  0.6386,  0.5941,  ...,  0.6460,  0.7054,  0.7425],\n",
      "        [ 0.4310,  0.5570,  0.6757,  ...,  0.5867,  0.6831, -0.0511],\n",
      "        [ 0.4680,  0.3865,  0.3790,  ...,  0.5051,  0.4977,  0.5200]])\n",
      "tensor([[ 0.5348,  0.7202,  0.7870,  ...,  0.9130,  1.0020,  0.9427],\n",
      "        [ 0.6980,  0.7350,  0.9946,  ...,  0.7573,  0.5645,  0.9575],\n",
      "        [ 0.6905,  0.7425,  0.5125,  ...,  0.6831,  0.6535,  0.6831],\n",
      "        ...,\n",
      "        [ 0.4087,  0.4680,  0.2604,  ...,  0.2678,  0.1788,  0.1343],\n",
      "        [ 0.5496,  0.2752,  0.3345,  ...,  0.3716,  0.3123,  0.3123],\n",
      "        [-0.5035, -0.7409, -0.6148,  ..., -0.0140,  0.0305, -0.0140]])\n",
      "tensor([[-0.9634, -0.8818, -0.4442,  ..., -2.2464, -2.4689, -2.6173],\n",
      "        [ 0.6015,  0.6905,  0.6535,  ...,  0.8092,  0.7425,  0.6460],\n",
      "        [-1.3119, -1.4751, -1.2971,  ..., -1.9201, -1.6383, -1.8163],\n",
      "        ...,\n",
      "        [-0.1772, -0.0511,  0.0824,  ..., -0.1401, -0.0437,  0.0231],\n",
      "        [ 0.1046,  0.1046,  0.0231,  ..., -0.0289,  0.1566,  0.1566],\n",
      "        [ 0.2085,  0.1195,  0.2455,  ...,  0.1046,  0.1714,  0.1343]])\n",
      "tensor([[ 4.5302e-02,  1.3430e-01, -9.4852e-01,  ..., -1.7792e+00,\n",
      "         -1.0894e+00, -2.7361e-01],\n",
      "        [ 1.8622e-01,  2.1588e-01,  1.9363e-01,  ..., -1.1339e+00,\n",
      "         -8.5211e-01, -1.6160e+00],\n",
      "        [-1.1636e+00, -1.1191e+00, -1.0227e+00,  ..., -4.7386e-01,\n",
      "         -5.7028e-01, -4.3678e-01],\n",
      "        ...,\n",
      "        [-3.4036e-01, -1.8461e-01, -1.8461e-01,  ...,  8.0218e-04,\n",
      "          6.0135e-02,  8.2385e-02],\n",
      "        [-1.2528e-01, -2.1448e-02,  3.7885e-02,  ..., -1.4031e-02,\n",
      "          8.9801e-02,  1.1947e-01],\n",
      "        [-1.4753e-01, -1.9945e-01, -3.3294e-01,  ..., -1.6978e-01,\n",
      "         -1.6236e-01, -2.3653e-01]])\n",
      "tensor([[-2.5950e+00, -2.5728e+00, -2.4541e+00,  ..., -2.9288e+00,\n",
      "         -2.7359e+00, -2.5357e+00],\n",
      "        [-2.9658e+00, -3.0548e+00, -3.0623e+00,  ..., -3.1290e+00,\n",
      "         -3.3738e+00, -3.3960e+00],\n",
      "        [-1.6978e-01, -5.1114e-02, -6.6144e-03,  ..., -5.2578e-01,\n",
      "         -3.6281e-02,  2.9747e-01],\n",
      "        ...,\n",
      "        [ 2.7522e-01,  3.1972e-01,  3.5680e-01,  ...,  2.4555e-01,\n",
      "          2.0847e-01,  1.4172e-01],\n",
      "        [ 2.0105e-01,  1.4172e-01,  1.7138e-01,  ..., -1.0303e-01,\n",
      "          8.0218e-04,  2.0847e-01],\n",
      "        [-1.0004e+00, -9.1144e-01, -5.1836e-01,  ...,  3.3455e-01,\n",
      "          3.4197e-01,  3.5680e-01]])\n",
      "tensor([[ 0.9798,  0.8760,  0.8982,  ...,  0.6609,  0.7425,  0.7499],\n",
      "        [-2.5802, -2.5060, -2.6321,  ...,  0.7425,  0.8537,  0.8611],\n",
      "        [ 0.6090,  0.6757,  0.7870,  ...,  0.8982,  0.7350,  0.6535],\n",
      "        ...,\n",
      "        [ 0.8166,  0.7573,  0.7499,  ...,  0.7128,  0.6535,  0.6757],\n",
      "        [ 0.5051,  0.7350,  0.5348,  ...,  0.5570,  0.5941,  0.6831],\n",
      "        [ 0.7425,  0.6980,  0.6015,  ...,  0.4903,  0.5719,  0.5348]])\n",
      "tensor([[0.7573, 0.8685, 0.8463,  ..., 0.8018, 1.0688, 0.8537],\n",
      "        [0.8389, 0.7870, 0.7128,  ..., 0.4087, 0.1491, 0.3642],\n",
      "        [0.8463, 0.8092, 0.6460,  ..., 0.7499, 0.7499, 0.7425],\n",
      "        ...,\n",
      "        [0.7202, 0.6831, 0.7944,  ..., 0.6980, 0.6386, 0.5496],\n",
      "        [0.7870, 0.8240, 0.7721,  ..., 0.6980, 0.7202, 0.6831],\n",
      "        [0.7054, 0.7647, 0.8092,  ..., 0.6980, 0.6386, 0.5570]])\n",
      "tensor([[ 0.9872,  1.1652,  1.0688,  ...,  0.7128,  0.4680,  0.5645],\n",
      "        [ 0.8389,  0.6312,  0.6980,  ...,  0.5793,  0.4310,  0.3197],\n",
      "        [ 0.7944,  0.8685,  0.6312,  ..., -0.3700, -0.5035, -0.9485],\n",
      "        ...,\n",
      "        [-0.0289, -0.0585, -0.0437,  ..., -0.0140, -0.1253, -0.1104],\n",
      "        [-0.0511, -0.0882, -0.1327,  ..., -0.0585,  0.0750, -0.0214],\n",
      "        [ 0.2381,  0.1566,  0.2011,  ..., -0.0585, -0.0289, -0.0956]])\n",
      "tensor([[-2.3206, -2.3799, -2.3354,  ..., -1.9423, -1.8014, -1.7569],\n",
      "        [ 0.3420,  0.2604,  0.2975,  ...,  0.1491,  0.2233,  0.4013],\n",
      "        [-1.6679, -1.6383, -1.2897,  ..., -1.7198, -1.6605, -1.4084],\n",
      "        ...,\n",
      "        [-0.0289, -0.0363, -0.1179,  ..., -0.2810, -0.1624, -0.0511],\n",
      "        [-0.0437, -0.0289, -0.1179,  ..., -0.2291, -0.0289, -0.0289],\n",
      "        [-0.1475, -0.0808, -0.0140,  ..., -0.2959, -0.2514, -0.1846]])\n",
      "tensor([[ 3.4197e-01,  4.0130e-01,  1.3430e-01,  ..., -7.2602e-01,\n",
      "         -1.1339e+00, -1.0524e+00],\n",
      "        [ 8.2385e-02,  2.0847e-01,  8.9801e-02,  ..., -2.3799e+00,\n",
      "         -2.4244e+00, -2.3873e+00],\n",
      "        [ 8.0218e-04,  2.3052e-02, -4.3697e-02,  ...,  2.3052e-02,\n",
      "         -8.0780e-02, -2.6620e-01],\n",
      "        ...,\n",
      "        [ 4.9030e-01,  4.2355e-01,  3.7163e-01,  ...,  1.9363e-01,\n",
      "          2.5297e-01,  2.1588e-01],\n",
      "        [ 4.7546e-01,  4.5321e-01,  4.2355e-01,  ...,  2.1588e-01,\n",
      "          1.1205e-01,  1.1947e-01],\n",
      "        [-9.0402e-01, -8.6694e-01, -9.4111e-01,  ..., -7.4086e-01,\n",
      "         -6.4444e-01, -5.7028e-01]])\n",
      "tensor([[-2.9510, -3.0029, -2.9362,  ..., -0.8002,  0.0898,  0.5200],\n",
      "        [-3.6037, -3.5147, -3.5369,  ..., -3.2032, -3.3070, -3.2254],\n",
      "        [ 0.5125,  0.5274,  0.2826,  ...,  0.5051,  0.5200,  0.5570],\n",
      "        ...,\n",
      "        [ 0.5125,  0.5274,  0.4235,  ...,  0.6312,  0.7573,  0.6905],\n",
      "        [ 0.4829,  0.5719,  0.3568,  ...,  0.6535,  0.7573,  0.7647],\n",
      "        [ 0.8982,  0.9130,  0.8834,  ...,  1.0095,  0.9501,  0.9501]])\n",
      "tensor([[ 0.7350,  0.6980,  0.8018,  ...,  0.6757,  0.6683,  0.6460],\n",
      "        [ 0.9946,  1.0243,  0.8982,  ...,  0.6905,  0.8611,  0.7276],\n",
      "        [-0.2736,  0.2307,  0.5348,  ...,  0.7425,  0.6757,  0.7054],\n",
      "        ...,\n",
      "        [ 0.6757,  0.8018,  0.7721,  ...,  0.6980,  0.5719,  0.6905],\n",
      "        [ 0.7202,  0.6905,  0.7425,  ...,  0.6015,  0.5348,  0.6757],\n",
      "        [ 0.6905,  0.6980,  0.6831,  ...,  0.6980,  0.8463,  0.8389]])\n",
      "tensor([[ 0.8092,  0.6831,  0.8908,  ...,  1.0762,  0.9724,  1.0985],\n",
      "        [ 0.7202,  0.5645,  0.4680,  ...,  0.9724,  0.7795,  0.8240],\n",
      "        [ 0.4755,  0.6831,  0.4384,  ...,  1.0762,  0.9946,  0.9427],\n",
      "        ...,\n",
      "        [-0.0882, -0.1475, -0.0659,  ...,  0.2011,  0.1862,  0.1269],\n",
      "        [-1.0672, -0.3552, -0.3404,  ...,  0.2085,  0.1343,  0.1714],\n",
      "        [-1.2600, -0.8076, -0.6519,  ...,  0.4235,  0.2530,  0.1566]])\n",
      "tensor([[-2.8398, -2.8694, -2.8472,  ..., -2.6840, -2.6543, -2.6766],\n",
      "        [ 1.0465,  0.9798,  0.8389,  ...,  0.7647,  0.6831,  0.8685],\n",
      "        [-2.5505, -2.7656, -2.6914,  ..., -2.0388, -1.8978, -1.7718],\n",
      "        ...,\n",
      "        [-0.0659, -0.1401, -0.0140,  ...,  0.0676,  0.0601,  0.0601],\n",
      "        [ 0.0453, -0.1475, -0.1624,  ...,  0.1491,  0.0601,  0.0601],\n",
      "        [ 0.0527,  0.1566,  0.1936,  ..., -0.0585, -0.0066,  0.0305]])\n",
      "tensor([[-1.6234, -0.8002, -0.5406,  ..., -0.1327,  0.2455,  0.3123],\n",
      "        [-1.1710, -1.7940, -2.2464,  ..., -2.6098, -2.6988, -2.6618],\n",
      "        [-1.9720, -2.0907, -1.6902,  ..., -1.2823, -0.9411, -0.8818],\n",
      "        ...,\n",
      "        [ 0.2307,  0.1269, -0.2588,  ...,  0.1714,  0.2159,  0.2159],\n",
      "        [ 0.3345, -0.1179, -0.1846,  ...,  0.3049,  0.3568,  0.2975],\n",
      "        [-2.1426, -1.4084, -1.5864,  ..., -0.0437, -0.2736, -1.1117]])\n",
      "tensor([[-2.7433e+00, -2.8472e+00, -2.8917e+00,  ..., -3.0029e+00,\n",
      "         -2.8546e+00, -2.9510e+00],\n",
      "        [-3.6852e+00, -3.6852e+00, -3.5369e+00,  ..., -3.3886e+00,\n",
      "         -3.4183e+00, -3.3886e+00],\n",
      "        [ 2.0847e-01,  1.0463e-01,  8.0218e-04,  ...,  7.4968e-02,\n",
      "         -5.1114e-02, -2.9586e-01],\n",
      "        ...,\n",
      "        [ 8.9801e-02,  1.4913e-01,  8.9801e-02,  ...,  3.6422e-01,\n",
      "          1.8622e-01,  2.7522e-01],\n",
      "        [ 3.0469e-02,  8.2385e-02,  1.3430e-01,  ...,  3.0469e-02,\n",
      "          1.4172e-01,  9.7218e-02],\n",
      "        [ 4.7546e-01,  4.6063e-01,  4.5321e-01,  ...,  5.7930e-01,\n",
      "          4.4580e-01,  4.2355e-01]])\n",
      "tensor([[0.8166, 0.8760, 0.8834,  ..., 0.4903, 0.5051, 0.5570],\n",
      "        [0.7944, 0.8315, 0.7202,  ..., 0.4903, 0.5941, 0.5496],\n",
      "        [0.6312, 0.4532, 0.5793,  ..., 0.7054, 0.7870, 0.7573],\n",
      "        ...,\n",
      "        [0.4903, 0.3123, 0.2900,  ..., 0.5570, 0.6164, 0.6164],\n",
      "        [0.3790, 0.2159, 0.5496,  ..., 0.6535, 0.6460, 0.5719],\n",
      "        [0.3197, 0.3123, 0.3123,  ..., 0.4384, 0.5125, 0.4829]])\n",
      "tensor([[ 1.4248,  1.1800,  1.2097,  ...,  0.9130,  0.8018,  0.8685],\n",
      "        [ 1.0910,  0.8315,  0.7795,  ...,  0.6386,  0.7944,  0.8092],\n",
      "        [ 0.6312,  0.7944,  0.6609,  ...,  0.5422,  0.5200,  0.6312],\n",
      "        ...,\n",
      "        [ 0.5200,  0.4829,  0.5051,  ...,  0.3345,  0.2159,  0.1936],\n",
      "        [ 0.6460,  0.5941,  0.6164,  ...,  0.4977,  0.4977,  0.4087],\n",
      "        [ 0.4013,  0.1046,  0.1566,  ...,  0.0305, -0.0882, -0.0734]])\n",
      "tensor([[-0.3552, -0.6593, -0.6519,  ..., -1.0227, -0.9930, -0.9856],\n",
      "        [ 0.5125,  0.5348,  0.5719,  ...,  0.6164,  0.6460,  0.7054],\n",
      "        [-1.2007, -1.2304, -1.2526,  ..., -0.4368, -0.7631, -1.2600],\n",
      "        ...,\n",
      "        [-0.1401, -0.0659, -0.0437,  ..., -0.1772, -0.1253, -0.2143],\n",
      "        [ 0.0305, -0.0214,  0.0379,  ..., -0.1401, -0.0956, -0.1475],\n",
      "        [ 0.1121,  0.0305, -0.0882,  ...,  0.1195,  0.2530,  0.3197]])\n",
      "tensor([[-2.5060e+00, -2.4986e+00, -2.6988e+00,  ..., -1.7421e+00,\n",
      "         -1.8904e+00, -2.0610e+00],\n",
      "        [-1.7792e+00, -1.7940e+00, -2.1278e+00,  ..., -2.4689e+00,\n",
      "         -2.3132e+00, -2.3651e+00],\n",
      "        [-1.1191e+00, -9.9302e-01, -8.1502e-01,  ..., -1.0524e+00,\n",
      "         -8.1502e-01, -1.2304e+00],\n",
      "        ...,\n",
      "        [-2.2835e+00, -2.4244e+00, -2.2983e+00,  ..., -2.0388e+00,\n",
      "         -2.0981e+00, -2.2168e+00],\n",
      "        [ 6.0135e-02,  2.3052e-02,  8.0218e-04,  ...,  1.4172e-01,\n",
      "          6.0135e-02,  6.0135e-02],\n",
      "        [-1.7720e-01, -2.5136e-01, -1.5495e-01,  ..., -4.8128e-01,\n",
      "         -4.3678e-01, -2.5136e-01]])\n",
      "tensor([[-3.1513, -2.9436, -2.7953,  ..., -3.0474, -2.8249, -2.9584],\n",
      "        [-2.7137, -3.0178, -3.2922,  ..., -3.6037, -3.6556, -3.6852],\n",
      "        [-0.4739, -0.5258, -0.1920,  ...,  0.0453, -0.5406, -0.8447],\n",
      "        ...,\n",
      "        [ 0.4384,  0.3939,  0.3345,  ...,  0.4087,  0.3568,  0.2233],\n",
      "        [ 0.5570,  0.5274,  0.5867,  ...,  0.5570,  0.4087,  0.4384],\n",
      "        [-0.4368, -0.4294, -0.1772,  ...,  0.3939,  0.4013,  0.5125]])\n",
      "tensor([[ 1.0614,  1.2171,  1.0762,  ...,  0.8982,  0.8834,  1.0540],\n",
      "        [-2.0462, -0.3478,  0.4161,  ...,  1.0614,  0.8982,  0.8166],\n",
      "        [ 0.5496,  0.6312,  0.6905,  ...,  0.4087,  0.4532,  0.5348],\n",
      "        ...,\n",
      "        [ 0.6905,  0.7202,  0.5867,  ...,  0.5719,  0.6535,  0.7202],\n",
      "        [ 0.6609,  0.5793,  0.6090,  ...,  0.5867,  0.6460,  0.6757],\n",
      "        [-2.7063, -2.8175, -2.7433,  ..., -2.8323, -2.9139, -2.9658]])\n",
      "Test, MAE: 9.831183433532715, RMSE: 13.130069732666016, MAPE: 28.060279846191406\n"
     ]
    },
    {
     "data": {
      "image/png": "[encoded data removed]",
      "text/plain": [
       "<Figure size 640x480 with 1 Axes>"
      ]
     },
     "metadata": {},
     "output_type": "display_data"
    }
   ],
   "source": [
    "def plot_prediction(test_dataloader, y_pred, y_truth, node, config):\n",
    "    # Calculate the truth\n",
    "    s = y_truth.shape\n",
    "    y_truth = y_truth.reshape(s[0], config['BATCH_SIZE'], config['N_NODE'], s[-1])\n",
    "    # just get the first prediction out for the nth node\n",
    "    y_truth = y_truth[:, :, node, 0]\n",
    "    # Flatten to get the predictions for entire test dataset\n",
    "    y_truth = torch.flatten(y_truth)\n",
    "    day0_truth = y_truth[:config['N_SLOT']]\n",
    "\n",
    "\n",
    "    # Calculate the predicted\n",
    "    s = y_pred.shape\n",
    "    y_pred = y_pred.reshape(s[0], config['BATCH_SIZE'], config['N_NODE'], s[-1])\n",
    "    # just get the first prediction out for the nth node\n",
    "    y_pred = y_pred[:, :, node, 0]\n",
    "    # Flatten to get the predictions for entire test dataset\n",
    "    y_pred = torch.flatten(y_pred)\n",
    "    # Just grab the first day\n",
    "    day0_pred = y_pred[:config['N_SLOT']]\n",
    "    t = [t for t in range(0, config['N_SLOT']*5, 5)]\n",
    "    plt.plot(t, day0_pred, label='ST-GAT')\n",
    "    plt.plot(t, day0_truth, label='truth')\n",
    "    plt.xlabel('Time (minutes)')\n",
    "    plt.ylabel('Speed prediction')\n",
    "    plt.title('Predictions of traffic over time')\n",
    "    plt.legend()\n",
    "    plt.savefig('predicted_times.png')\n",
    "    plt.show()\n",
    "    \n",
    "_, _, _, y_pred, y_truth = eval(model, device, test_dataloader, 'Test')\n",
    "\n",
    "plot_prediction(test_dataloader, y_pred, y_truth, 0, config)"
   ]
  }
 ],
 "metadata": {
  "kernelspec": {
   "display_name": "Python 3 (ipykernel)",
   "language": "python",
   "name": "python3"
  },
  "language_info": {
   "codemirror_mode": {
    "name": "ipython",
    "version": 3
   },
   "file_extension": ".py",
   "mimetype": "text/x-python",
   "name": "python",
   "nbconvert_exporter": "python",
   "pygments_lexer": "ipython3",
   "version": "3.9.12"
  }
 },
 "nbformat": 4,
 "nbformat_minor": 5
}
