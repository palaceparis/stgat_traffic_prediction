{
 "cells": [
  {
   "cell_type": "markdown",
   "id": "71af53f3-af13-4676-b24e-4c06b39c9c67",
   "metadata": {},
   "source": [
    "# Installation and Setup"
   ]
  },
  {
   "cell_type": "code",
   "execution_count": 69,
   "id": "ced5e735-b4d4-48a2-ad59-781b93047c60",
   "metadata": {},
   "outputs": [
    {
     "name": "stdout",
     "output_type": "stream",
     "text": [
      "Using cpu\n"
     ]
    }
   ],
   "source": [
    "import torch\n",
    "device = 'cuda' if torch.cuda.is_available() else 'cpu'\n",
    "print(f\"Using {device}\")"
   ]
  },
  {
   "cell_type": "markdown",
   "id": "d4fd1071-ef14-4d89-b44d-cf6d17abf201",
   "metadata": {},
   "source": [
    "# Create a dataloader"
   ]
  },
  {
   "cell_type": "code",
   "execution_count": 99,
   "id": "0831bfa6-d998-4ae1-92a3-9b677ec5b482",
   "metadata": {},
   "outputs": [],
   "source": [
    "import torch\n",
    "import numpy as np\n",
    "import pandas as pd\n",
    "import os\n",
    "from torch_geometric.data import InMemoryDataset, Data\n",
    "from shutil import copyfile\n",
    "\n",
    "\n",
    "def distance_to_weight(W, sigma2=0.1, epsilon=0.5, gat_version=False):\n",
    "    \"\"\"\"\n",
    "    Given distances between all nodes, convert into a weight matrix\n",
    "    :param W distances\n",
    "    :param sigma2 User configurable parameter to adjust sparsity of matrix\n",
    "    :param epsilon User configurable parameter to adjust sparsity of matrix\n",
    "    :param gat_version If true, use 0/1 weights with self loops. Otherwise, use float\n",
    "    \"\"\"\n",
    "    n = W.shape[0]\n",
    "    W = W / 10000.\n",
    "    W2, W_mask = W * W, np.ones([n, n]) - np.identity(n)\n",
    "    # refer to Eq.10\n",
    "    W = np.exp(-W2 / sigma2) * (np.exp(-W2 / sigma2) >= epsilon) * W_mask\n",
    "\n",
    "    # If using the gat version of this, round to 0/1 and include self loops\n",
    "    if gat_version:\n",
    "        W[W>0] = 1\n",
    "        W += np.identity(n)\n",
    "\n",
    "\n",
    "    return W\n",
    "\n",
    "class TrafficDataset(InMemoryDataset):\n",
    "    \"\"\"\n",
    "    Dataset for Graph Neural Networks.\n",
    "    \"\"\"\n",
    "    def __init__(self, config, W, root='', transform=None, pre_transform=None):\n",
    "        self.config = config\n",
    "        self.W = W\n",
    "        super().__init__(root, transform, pre_transform)\n",
    "        self.data, self.slices, self.n_node, self.mean, self.std_dev = torch.load(self.processed_paths[0])\n",
    "\n",
    "    @property\n",
    "    def raw_file_names(self):\n",
    "        return [os.path.join(self.raw_dir, 'PeMSD7_V_228.csv')]\n",
    "\n",
    "    @property\n",
    "    def processed_file_names(self):\n",
    "        return ['./data.pt']\n",
    "\n",
    "    def download(self):\n",
    "        copyfile('./dataset/PeMSD7_V_228.csv', os.path.join(self.raw_dir, 'PeMSD7_V_228.csv'))\n",
    "\n",
    "    def process(self):\n",
    "        \"\"\"\n",
    "        Process the raw datasets into saved .pt dataset for later use.\n",
    "        Note that any self.fields here wont exist if loading straight from the .pt file\n",
    "        \"\"\"\n",
    "        # Data Preprocessing and loading\n",
    "        data = pd.read_csv(self.raw_file_names[0], header=None).values\n",
    "        # Technically using the validation and test datasets here, but it's fine, would normally get the\n",
    "        # mean and std_dev from a large dataset\n",
    "        mean =  np.mean(data)\n",
    "        std_dev = np.std(data)\n",
    "        data = z_score(data, np.mean(data), np.std(data))\n",
    "        \n",
    "        _, n_node = data.shape\n",
    "        n_window = self.config['N_PRED'] + self.config['N_HIST']\n",
    "\n",
    "        # manipulate nxn matrix into 2xnum_edges\n",
    "        edge_index = torch.zeros((2, n_node**2), dtype=torch.long)\n",
    "        # create an edge_attr matrix with our weights  (num_edges x 1) --> our edge features are dim 1\n",
    "        edge_attr = torch.zeros((n_node**2, 1))\n",
    "        num_edges = 0\n",
    "        for i in range(n_node):\n",
    "            for j in range(n_node):\n",
    "                if self.W[i, j] != 0.:\n",
    "                    edge_index[0, num_edges] = i\n",
    "                    edge_index[1, num_edges] = j\n",
    "                    edge_attr[num_edges] = self.W[i, j]\n",
    "                    num_edges += 1\n",
    "\n",
    "        # using resize_ to just keep the first num_edges entries\n",
    "        edge_index = edge_index.resize_(2, num_edges)\n",
    "        edge_attr = edge_attr.resize_(num_edges, 1)\n",
    "\n",
    "        sequences = []\n",
    "        # T x F x N\n",
    "        for i in range(self.config['N_DAYS']):\n",
    "            for j in range(self.config['N_SLOT']):\n",
    "                # for each time point construct a different graph with data object\n",
    "                # Docs here: https://pytorch-geometric.readthedocs.io/en/latest/modules/data.html#torch_geometric.data.Data\n",
    "                g = Data()\n",
    "                g.__num_nodes__ = n_node\n",
    "\n",
    "                g.edge_index = edge_index\n",
    "                g.edge_attr  = edge_attr\n",
    "\n",
    "                # (F,N) switched to (N,F)\n",
    "                sta = i * self.config['N_DAY_SLOT'] + j\n",
    "                end = sta + n_window\n",
    "                # [21, 228]\n",
    "                full_window = np.swapaxes(data[sta:end, :], 0, 1)\n",
    "                g.x = torch.FloatTensor(full_window[:, 0:self.config['N_HIST']])\n",
    "                g.y = torch.FloatTensor(full_window[:, self.config['N_HIST']::])\n",
    "                sequences += [g]\n",
    "\n",
    "        # Make the actual dataset\n",
    "        data, slices = self.collate(sequences)\n",
    "\n",
    "        torch.save((data, slices, n_node, mean, std_dev), self.processed_paths[0])\n",
    "\n",
    "def get_splits(dataset: TrafficDataset, n_slot, splits):\n",
    "    \"\"\"\n",
    "    Given the data, split it into random subsets of train, val, and test as given by splits\n",
    "    :param dataset: TrafficDataset object to split\n",
    "    :param n_slot: Number of possible sliding windows in a day\n",
    "    :param splits: (train, val, test) ratios\n",
    "    \"\"\"\n",
    "    split_train, split_val, _ = splits\n",
    "    i = n_slot*split_train\n",
    "    j = n_slot*split_val\n",
    "    train = dataset[:i]\n",
    "    val = dataset[i:i+j]\n",
    "    test = dataset[i+j:]\n",
    "\n",
    "    return train, val, test"
   ]
  },
  {
   "cell_type": "markdown",
   "id": "7a8b1c66-3e66-4e67-98a7-1b0a848f5489",
   "metadata": {},
   "source": [
    "# Build the model"
   ]
  },
  {
   "cell_type": "code",
   "execution_count": 71,
   "id": "b9c2c429-ba12-4dec-97b0-5e28c0d63270",
   "metadata": {
    "tags": []
   },
   "outputs": [],
   "source": [
    "import torch\n",
    "import torch.nn.functional as F\n",
    "from torch_geometric.nn import GATConv\n",
    "class ST_GAT(torch.nn.Module):\n",
    "    \"\"\"\n",
    "    Spatio-Temporal Graph Attention Network as presented in https://ieeexplore.ieee.org/document/8903252\n",
    "    \"\"\"\n",
    "    def __init__(self, in_channels, out_channels, n_nodes, heads=8, dropout=0.0):\n",
    "        \"\"\"\n",
    "        Initialize the ST-GAT model\n",
    "        :param in_channels Number of input channels\n",
    "        :param out_channels Number of output channels\n",
    "        :param n_nodes Number of nodes in the graph\n",
    "        :param heads Number of attention heads to use in graph\n",
    "        :param dropout Dropout probability on output of Graph Attention Network\n",
    "        \"\"\"\n",
    "        super(ST_GAT, self).__init__()\n",
    "        self.n_pred = out_channels\n",
    "        self.heads = heads\n",
    "        self.dropout = dropout\n",
    "        self.n_nodes = n_nodes\n",
    "\n",
    "        self.n_preds = 9\n",
    "        lstm1_hidden_size = 32\n",
    "        lstm2_hidden_size = 128\n",
    "\n",
    "        # single graph attentional layer with 8 attention heads\n",
    "        self.gat = GATConv(in_channels=in_channels, out_channels=in_channels,\n",
    "            heads=heads, dropout=0, concat=False)\n",
    "\n",
    "        # add two LSTM layers\n",
    "        self.lstm1 = torch.nn.LSTM(input_size=self.n_nodes, hidden_size=lstm1_hidden_size, num_layers=1)\n",
    "        for name, param in self.lstm1.named_parameters():\n",
    "            if 'bias' in name:\n",
    "                torch.nn.init.constant_(param, 0.0)\n",
    "            elif 'weight' in name:\n",
    "                torch.nn.init.xavier_uniform_(param)\n",
    "        self.lstm2 = torch.nn.LSTM(input_size=lstm1_hidden_size, hidden_size=lstm2_hidden_size, num_layers=1)\n",
    "        for name, param in self.lstm1.named_parameters():\n",
    "            if 'bias' in name:\n",
    "                torch.nn.init.constant_(param, 0.0)\n",
    "            elif 'weight' in name:\n",
    "                torch.nn.init.xavier_uniform_(param)\n",
    "\n",
    "        # fully-connected neural network\n",
    "        self.linear = torch.nn.Linear(lstm2_hidden_size, self.n_nodes*self.n_pred)\n",
    "        torch.nn.init.xavier_uniform_(self.linear.weight)\n",
    "\n",
    "    def forward(self, data, device):\n",
    "        \"\"\"\n",
    "        Forward pass of the ST-GAT model\n",
    "        :param data Data to make a pass on\n",
    "        :param device Device to operate on\n",
    "        \"\"\"\n",
    "        x, edge_index = data.x, data.edge_index\n",
    "        # apply dropout\n",
    "        if device == 'cpu':\n",
    "            x = torch.FloatTensor(x)\n",
    "        else:\n",
    "            x = torch.cuda.FloatTensor(x)\n",
    "\n",
    "        # gat layer: output of gat: [11400, 12]\n",
    "        x = self.gat(x, edge_index)\n",
    "        x = F.dropout(x, self.dropout, training=self.training)\n",
    "\n",
    "        # RNN: 2 LSTM\n",
    "        # [batchsize*n_nodes, seq_length] -> [batch_size, n_nodes, seq_length]\n",
    "        batch_size = data.num_graphs\n",
    "        n_node = int(data.num_nodes/batch_size)\n",
    "        x = torch.reshape(x, (batch_size, n_node, data.num_features))\n",
    "        # for lstm: x should be (seq_length, batch_size, n_nodes)\n",
    "        # sequence length = 12, batch_size = 50, n_node = 228\n",
    "        x = torch.movedim(x, 2, 0)\n",
    "        # [12, 50, 228] -> [12, 50, 32]\n",
    "        x, _ = self.lstm1(x)\n",
    "        # [12, 50, 32] -> [12, 50, 128]\n",
    "        x, _ = self.lstm2(x)\n",
    "\n",
    "        # Output contains h_t for each timestep, only the last one has all input's accounted for\n",
    "        # [12, 50, 128] -> [50, 128]\n",
    "        x = torch.squeeze(x[-1, :, :])\n",
    "        # [50, 128] -> [50, 228*9]\n",
    "        x = self.linear(x)\n",
    "\n",
    "        # Now reshape into final output\n",
    "        s = x.shape\n",
    "        # [50, 228*9] -> [50, 228, 9]\n",
    "        x = torch.reshape(x, (s[0], self.n_nodes, self.n_pred))\n",
    "        # [50, 228, 9] ->  [11400, 9]\n",
    "        x = torch.reshape(x, (s[0]*self.n_nodes, self.n_pred))\n",
    "        return x\n"
   ]
  },
  {
   "cell_type": "markdown",
   "id": "63ef9455-a23f-4bb9-b3c7-ac3af530c2c8",
   "metadata": {
    "tags": []
   },
   "source": [
    "## Create Train and Evaluation functions"
   ]
  },
  {
   "cell_type": "code",
   "execution_count": 205,
   "id": "3749b6a1-5e03-47c5-8f30-23df1a852d23",
   "metadata": {
    "tags": []
   },
   "outputs": [],
   "source": [
    "@torch.no_grad()\n",
    "def eval(model, device, dataloader, type=''):\n",
    "    \"\"\"\n",
    "    Evaluation function to evaluate model on data\n",
    "    :param model Model to evaluate\n",
    "    :param device Device to evaluate on\n",
    "    :param dataloader Data loader\n",
    "    :param type Name of evaluation type, e.g. Train/Val/Test\n",
    "    \"\"\"\n",
    "    model.eval()\n",
    "    model.to(device)\n",
    "\n",
    "    mae = 0\n",
    "    rmse = 0\n",
    "    mape = 0\n",
    "    n = 0\n",
    "\n",
    "    # Evaluate model on all data\n",
    "    for i, batch in enumerate(dataloader):\n",
    "        batch = batch.to(device)\n",
    "        if batch.x.shape[0] == 1:\n",
    "            pass\n",
    "        else:\n",
    "            with torch.no_grad():\n",
    "                pred = model(batch, device)\n",
    "            truth = batch.y.view(pred.shape)\n",
    "            if i == 0:\n",
    "                y_pred = torch.zeros(len(dataloader), pred.shape[0], pred.shape[1])\n",
    "                y_truth = torch.zeros(len(dataloader), pred.shape[0], pred.shape[1])\n",
    "            truth = un_z_score(truth, dataloader.dataset.mean, dataloader.dataset.std_dev)\n",
    "            pred = un_z_score(pred, dataloader.dataset.mean, dataloader.dataset.std_dev)\n",
    "            y_pred[i, :pred.shape[0], :] = pred\n",
    "            y_truth[i, :pred.shape[0], :] = truth\n",
    "    \n",
    "            rmse += RMSE(truth, pred)\n",
    "            mae += MAE(truth, pred)\n",
    "            mape += MAPE(truth, pred)\n",
    "            n += 1\n",
    "    rmse, mae, mape = rmse / n, mae / n, mape / n\n",
    "    print(f'{type}, MAE: {mae}, RMSE: {rmse}, MAPE: {mape}')  \n",
    "\n",
    "    #get the average score for each metric in each batch\n",
    "    return rmse, mae, mape, y_pred, y_truth\n",
    "\n",
    "def train(model, device, dataloader, optimizer, loss_fn, epoch):\n",
    "    \"\"\"\n",
    "    Evaluation function to evaluate model on data\n",
    "    :param model Model to evaluate\n",
    "    :param device Device to evaluate on\n",
    "    :param dataloader Data loader\n",
    "    :param optimizer Optimizer to use\n",
    "    :param loss_fn Loss function\n",
    "    :param epoch Current epoch\n",
    "    \"\"\"\n",
    "    model.train()\n",
    "    for _, batch in enumerate(tqdm(dataloader, desc=f\"Epoch {epoch}\")):\n",
    "        batch = batch.to(device)\n",
    "        optimizer.zero_grad()\n",
    "        y_pred = torch.squeeze(model(batch, device))\n",
    "        loss = loss_fn()(y_pred.float(), torch.squeeze(batch.y).float())\n",
    "        writer.add_scalar(\"Loss/train\", loss, epoch)\n",
    "        loss.backward()\n",
    "        optimizer.step()\n",
    "\n",
    "    return loss"
   ]
  },
  {
   "cell_type": "code",
   "execution_count": 73,
   "id": "632a2b97-1df4-426f-b620-373128bc65ca",
   "metadata": {
    "tags": []
   },
   "outputs": [],
   "source": [
    "def z_score(x, mean, std):\n",
    "    \"\"\"\n",
    "    Z-score normalization function: $z = (X - \\mu) / \\sigma $,\n",
    "    where z is the z-score, X is the value of the element,\n",
    "    $\\mu$ is the population mean, and $\\sigma$ is the standard deviation.\n",
    "    :param x: torch array, input array to be normalized.\n",
    "    :param mean: float, the value of mean.\n",
    "    :param std: float, the value of standard deviation.\n",
    "    :return: torch array, z-score normalized array.\n",
    "    \"\"\"\n",
    "    return (x - mean) / std\n",
    "\n",
    "def un_z_score(x_normed, mean, std):\n",
    "    \"\"\"\n",
    "    Undo the Z-score calculation\n",
    "    :param x_normed: torch array, input array to be un-normalized.\n",
    "    :param mean: float, the value of mean.\n",
    "    :param std: float, the value of standard deviation.\n",
    "    \"\"\"\n",
    "    return x_normed * std  + mean\n",
    "\n",
    "\n",
    "def MAPE(v, v_):\n",
    "    \"\"\"\n",
    "    Mean absolute percentage error, given as a % (e.g. 99 -> 99%)\n",
    "    :param v: torch array, ground truth.\n",
    "    :param v_: torch array, prediction.\n",
    "    :return: torch scalar, MAPE averages on all elements of input.\n",
    "    \"\"\"\n",
    "    return torch.mean(torch.abs((v_ - v)) /(v + 1e-15) * 100)\n",
    "\n",
    "\n",
    "def RMSE(v, v_):\n",
    "    \"\"\"\n",
    "    Mean squared error.\n",
    "    :param v: torch array, ground truth.\n",
    "    :param v_: torch array, prediction.\n",
    "    :return: torch scalar, RMSE averages on all elements of input.\n",
    "    \"\"\"\n",
    "    return torch.sqrt(torch.mean((v_ - v) ** 2))\n",
    "\n",
    "\n",
    "def MAE(v, v_):\n",
    "    \"\"\"\n",
    "    Mean absolute error.\n",
    "    :param v: torch array, ground truth.\n",
    "    :param v_: torch array, prediction.\n",
    "    :return: torch scalar, MAE averages on all elements of input.\n",
    "    \"\"\"\n",
    "    return torch.mean(torch.abs(v_ - v))\n"
   ]
  },
  {
   "cell_type": "code",
   "execution_count": 74,
   "id": "b850bea7-9acf-44db-8e15-bc9291a47e91",
   "metadata": {
    "tags": []
   },
   "outputs": [
    {
     "name": "stderr",
     "output_type": "stream",
     "text": [
      "2023-03-06 20:58:53.138884: I tensorflow/core/platform/cpu_feature_guard.cc:193] This TensorFlow binary is optimized with oneAPI Deep Neural Network Library (oneDNN) to use the following CPU instructions in performance-critical operations:  SSE4.1 SSE4.2\n",
      "To enable them in other operations, rebuild TensorFlow with the appropriate compiler flags.\n"
     ]
    }
   ],
   "source": [
    "import torch\n",
    "import torch.optim as optim\n",
    "from tqdm import tqdm\n",
    "import time\n",
    "import os\n",
    "import matplotlib.pyplot as plt\n",
    "\n",
    "from torch.utils.tensorboard import SummaryWriter\n",
    "\n",
    "# Make a tensorboard writer\n",
    "writer = SummaryWriter()\n",
    "\n",
    "def model_train(train_dataloader, val_dataloader, config, device):\n",
    "    \"\"\"\n",
    "    Train the ST-GAT model. Evaluate on validation dataset as you go.\n",
    "    :param train_dataloader Data loader of training dataset\n",
    "    :param val_dataloader Dataloader of val dataset\n",
    "    :param config configuration to use\n",
    "    :param device Device to evaluate on\n",
    "    \"\"\"\n",
    "\n",
    "    # Make the model. Each datapoint in the graph is 228x12: N x F (N = # nodes, F = time window)\n",
    "    model = ST_GAT(in_channels=config['N_HIST'], out_channels=config['N_PRED'], n_nodes=config['N_NODE'], dropout=config['DROPOUT']) \n",
    "    optimizer = optim.Adam(model.parameters(), lr=config['INITIAL_LR'], weight_decay=config['WEIGHT_DECAY'])\n",
    "    loss_fn = torch.nn.MSELoss\n",
    "\n",
    "    model.to(device)\n",
    "\n",
    "    # For every epoch, train the model on training dataset. Evaluate model on validation dataset\n",
    "    for epoch in range(config['EPOCHS']):\n",
    "        loss = train(model, device, train_dataloader, optimizer, loss_fn, epoch)\n",
    "        print(f\"Loss: {loss:.3f}\")\n",
    "        if epoch % 5 == 0:\n",
    "            train_mae, train_rmse, train_mape, _, _ = eval(model, device, train_dataloader, 'Train')\n",
    "            val_mae, val_rmse, val_mape, _, _ = eval(model, device, val_dataloader, 'Valid')\n",
    "            writer.add_scalar(f\"MAE/train\", train_mae, epoch)\n",
    "            writer.add_scalar(f\"RMSE/train\", train_rmse, epoch)\n",
    "            writer.add_scalar(f\"MAPE/train\", train_mape, epoch)\n",
    "            writer.add_scalar(f\"MAE/val\", val_mae, epoch)\n",
    "            writer.add_scalar(f\"RMSE/val\", val_rmse, epoch)\n",
    "            writer.add_scalar(f\"MAPE/val\", val_mape, epoch)\n",
    "\n",
    "    writer.flush()\n",
    "    # Save the model\n",
    "    timestr = time.strftime(\"%m-%d-%H%M%S\")\n",
    "    torch.save({\n",
    "            \"epoch\": epoch,\n",
    "            \"model_state_dict\": model.state_dict(),\n",
    "            \"optimizer_state_dict\": optimizer.state_dict(),\n",
    "            \"loss\": loss,\n",
    "            }, os.path.join(config[\"CHECKPOINT_DIR\"], f\"model_{timestr}.pt\"))\n",
    "\n",
    "    return model\n",
    "\n",
    "def model_test(model, test_dataloader, device, config):\n",
    "    \"\"\"\n",
    "    Test the ST-GAT model\n",
    "    :param test_dataloader Data loader of test dataset\n",
    "    :param device Device to evaluate on\n",
    "    \"\"\"\n",
    "    _, _, _, y_pred, y_truth = eval(model, device, test_dataloader, 'Test')\n"
   ]
  },
  {
   "cell_type": "markdown",
   "id": "2d68803a-e07b-4ab0-baa1-a3ebdc83d57f",
   "metadata": {
    "tags": []
   },
   "source": [
    "## Start training"
   ]
  },
  {
   "cell_type": "raw",
   "id": "34a16779-738e-4214-a02a-d8f8a676d719",
   "metadata": {
    "jupyter": {
     "outputs_hidden": true
    },
    "tags": []
   },
   "source": [
    "%load_ext tensorboard\n",
    "%tensorboard --logdir ./runs"
   ]
  },
  {
   "cell_type": "code",
   "execution_count": 76,
   "id": "ce06b75a-0afe-44cf-bb5c-5aaf9c2e68e6",
   "metadata": {
    "tags": []
   },
   "outputs": [],
   "source": [
    "from torch_geometric.loader import DataLoader\n",
    "\n",
    "# Constant config to use throughout\n",
    "config = {\n",
    "    'BATCH_SIZE': 50,\n",
    "    'EPOCHS': 6, # 60 default\n",
    "    'WEIGHT_DECAY': 5e-5,\n",
    "    'INITIAL_LR': 3e-4,\n",
    "    'CHECKPOINT_DIR': './runs',\n",
    "    'N_PRED': 9,\n",
    "    'N_HIST': 12,\n",
    "    'DROPOUT': 0.2,\n",
    "    # number of possible 5 minute measurements per day\n",
    "    'N_DAY_SLOT': 288,\n",
    "    # number of days worth of data in the dataset\n",
    "    'N_DAYS': 44,\n",
    "    # If false, use GCN paper weight matrix, if true, use GAT paper weight matrix\n",
    "    'USE_GAT_WEIGHTS': True,\n",
    "    'N_NODE': 228,\n",
    "}\n",
    "# Number of possible windows in a day\n",
    "config['N_SLOT']= config['N_DAY_SLOT'] - (config['N_PRED']+config['N_HIST']) + 1\n",
    "\n",
    "# Load the weight and dataset dataset\n",
    "distances = pd.read_csv('./dataset/PeMSD7_W_228.csv', header=None).values\n",
    "W = distance_to_weight(distances, gat_version=config['USE_GAT_WEIGHTS'])\n",
    "dataset = TrafficDataset(config, W)\n"
   ]
  },
  {
   "cell_type": "code",
   "execution_count": 95,
   "id": "e76bc79f-403d-4240-bc94-37d36bee60a3",
   "metadata": {
    "tags": []
   },
   "outputs": [
    {
     "name": "stdout",
     "output_type": "stream",
     "text": [
      "Using cpu\n"
     ]
    }
   ],
   "source": [
    "# total of 44 days in the dataset, use 34 for training, 5 for val, 5 for test\n",
    "d_train, d_val, d_test = get_splits(dataset, config['N_SLOT'], (34, 5, 5))\n",
    "train_dataloader = DataLoader(d_train, batch_size=config['BATCH_SIZE'], shuffle=True)\n",
    "val_dataloader = DataLoader(d_val, batch_size=config['BATCH_SIZE'], shuffle=True)\n",
    "test_dataloader = DataLoader(d_test, batch_size=config['BATCH_SIZE'], shuffle=False)\n",
    "\n",
    "# Get gpu if you can\n",
    "device = 'cuda' if torch.cuda.is_available() else 'cpu'\n",
    "print(f\"Using {device}\")\n",
    "\n",
    "# Configure and train model\n",
    "config['N_NODE'] = dataset.n_node"
   ]
  },
  {
   "cell_type": "code",
   "execution_count": null,
   "id": "9bef9ea7-9a9f-42ee-81c8-58b35bebc8a1",
   "metadata": {},
   "outputs": [
    {
     "data": {
      "text/plain": [
       "TrafficDataset(1340)"
      ]
     },
     "execution_count": 141,
     "metadata": {},
     "output_type": "execute_result"
    }
   ],
   "source": []
  },
  {
   "cell_type": "code",
   "execution_count": 79,
   "id": "2f415457-d431-4fad-b22d-bbcf136760d0",
   "metadata": {
    "tags": []
   },
   "outputs": [
    {
     "name": "stderr",
     "output_type": "stream",
     "text": [
      "Epoch 0:  55%|███████████████████████████████████████████████████████████████████████████████████████████▎                                                                           | 100/183 [00:14<00:11,  7.09it/s]\n"
     ]
    },
    {
     "ename": "KeyboardInterrupt",
     "evalue": "",
     "output_type": "error",
     "traceback": [
      "\u001b[0;31m---------------------------------------------------------------------------\u001b[0m",
      "\u001b[0;31mKeyboardInterrupt\u001b[0m                         Traceback (most recent call last)",
      "Cell \u001b[0;32mIn[218], line 1\u001b[0m\n\u001b[0;32m----> 1\u001b[0m model \u001b[38;5;241m=\u001b[39m \u001b[43mmodel_train\u001b[49m\u001b[43m(\u001b[49m\u001b[43mtrain_dataloader\u001b[49m\u001b[43m,\u001b[49m\u001b[43m \u001b[49m\u001b[43mval_dataloader\u001b[49m\u001b[43m,\u001b[49m\u001b[43m \u001b[49m\u001b[43mconfig\u001b[49m\u001b[43m,\u001b[49m\u001b[43m \u001b[49m\u001b[43mdevice\u001b[49m\u001b[43m)\u001b[49m\n",
      "Cell \u001b[0;32mIn[74], line 31\u001b[0m, in \u001b[0;36mmodel_train\u001b[0;34m(train_dataloader, val_dataloader, config, device)\u001b[0m\n\u001b[1;32m     29\u001b[0m \u001b[38;5;66;03m# For every epoch, train the model on training dataset. Evaluate model on validation dataset\u001b[39;00m\n\u001b[1;32m     30\u001b[0m \u001b[38;5;28;01mfor\u001b[39;00m epoch \u001b[38;5;129;01min\u001b[39;00m \u001b[38;5;28mrange\u001b[39m(config[\u001b[38;5;124m'\u001b[39m\u001b[38;5;124mEPOCHS\u001b[39m\u001b[38;5;124m'\u001b[39m]):\n\u001b[0;32m---> 31\u001b[0m     loss \u001b[38;5;241m=\u001b[39m \u001b[43mtrain\u001b[49m\u001b[43m(\u001b[49m\u001b[43mmodel\u001b[49m\u001b[43m,\u001b[49m\u001b[43m \u001b[49m\u001b[43mdevice\u001b[49m\u001b[43m,\u001b[49m\u001b[43m \u001b[49m\u001b[43mtrain_dataloader\u001b[49m\u001b[43m,\u001b[49m\u001b[43m \u001b[49m\u001b[43moptimizer\u001b[49m\u001b[43m,\u001b[49m\u001b[43m \u001b[49m\u001b[43mloss_fn\u001b[49m\u001b[43m,\u001b[49m\u001b[43m \u001b[49m\u001b[43mepoch\u001b[49m\u001b[43m)\u001b[49m\n\u001b[1;32m     32\u001b[0m     \u001b[38;5;28mprint\u001b[39m(\u001b[38;5;124mf\u001b[39m\u001b[38;5;124m\"\u001b[39m\u001b[38;5;124mLoss: \u001b[39m\u001b[38;5;132;01m{\u001b[39;00mloss\u001b[38;5;132;01m:\u001b[39;00m\u001b[38;5;124m.3f\u001b[39m\u001b[38;5;132;01m}\u001b[39;00m\u001b[38;5;124m\"\u001b[39m)\n\u001b[1;32m     33\u001b[0m     \u001b[38;5;28;01mif\u001b[39;00m epoch \u001b[38;5;241m%\u001b[39m \u001b[38;5;241m5\u001b[39m \u001b[38;5;241m==\u001b[39m \u001b[38;5;241m0\u001b[39m:\n",
      "Cell \u001b[0;32mIn[205], line 59\u001b[0m, in \u001b[0;36mtrain\u001b[0;34m(model, device, dataloader, optimizer, loss_fn, epoch)\u001b[0m\n\u001b[1;32m     57\u001b[0m batch \u001b[38;5;241m=\u001b[39m batch\u001b[38;5;241m.\u001b[39mto(device)\n\u001b[1;32m     58\u001b[0m optimizer\u001b[38;5;241m.\u001b[39mzero_grad()\n\u001b[0;32m---> 59\u001b[0m y_pred \u001b[38;5;241m=\u001b[39m torch\u001b[38;5;241m.\u001b[39msqueeze(\u001b[43mmodel\u001b[49m\u001b[43m(\u001b[49m\u001b[43mbatch\u001b[49m\u001b[43m,\u001b[49m\u001b[43m \u001b[49m\u001b[43mdevice\u001b[49m\u001b[43m)\u001b[49m)\n\u001b[1;32m     60\u001b[0m loss \u001b[38;5;241m=\u001b[39m loss_fn()(y_pred\u001b[38;5;241m.\u001b[39mfloat(), torch\u001b[38;5;241m.\u001b[39msqueeze(batch\u001b[38;5;241m.\u001b[39my)\u001b[38;5;241m.\u001b[39mfloat())\n\u001b[1;32m     61\u001b[0m writer\u001b[38;5;241m.\u001b[39madd_scalar(\u001b[38;5;124m\"\u001b[39m\u001b[38;5;124mLoss/train\u001b[39m\u001b[38;5;124m\"\u001b[39m, loss, epoch)\n",
      "File \u001b[0;32m~/opt/anaconda3/lib/python3.9/site-packages/torch/nn/modules/module.py:1194\u001b[0m, in \u001b[0;36mModule._call_impl\u001b[0;34m(self, *input, **kwargs)\u001b[0m\n\u001b[1;32m   1190\u001b[0m \u001b[38;5;66;03m# If we don't have any hooks, we want to skip the rest of the logic in\u001b[39;00m\n\u001b[1;32m   1191\u001b[0m \u001b[38;5;66;03m# this function, and just call forward.\u001b[39;00m\n\u001b[1;32m   1192\u001b[0m \u001b[38;5;28;01mif\u001b[39;00m \u001b[38;5;129;01mnot\u001b[39;00m (\u001b[38;5;28mself\u001b[39m\u001b[38;5;241m.\u001b[39m_backward_hooks \u001b[38;5;129;01mor\u001b[39;00m \u001b[38;5;28mself\u001b[39m\u001b[38;5;241m.\u001b[39m_forward_hooks \u001b[38;5;129;01mor\u001b[39;00m \u001b[38;5;28mself\u001b[39m\u001b[38;5;241m.\u001b[39m_forward_pre_hooks \u001b[38;5;129;01mor\u001b[39;00m _global_backward_hooks\n\u001b[1;32m   1193\u001b[0m         \u001b[38;5;129;01mor\u001b[39;00m _global_forward_hooks \u001b[38;5;129;01mor\u001b[39;00m _global_forward_pre_hooks):\n\u001b[0;32m-> 1194\u001b[0m     \u001b[38;5;28;01mreturn\u001b[39;00m \u001b[43mforward_call\u001b[49m\u001b[43m(\u001b[49m\u001b[38;5;241;43m*\u001b[39;49m\u001b[38;5;28;43minput\u001b[39;49m\u001b[43m,\u001b[49m\u001b[43m \u001b[49m\u001b[38;5;241;43m*\u001b[39;49m\u001b[38;5;241;43m*\u001b[39;49m\u001b[43mkwargs\u001b[49m\u001b[43m)\u001b[49m\n\u001b[1;32m   1195\u001b[0m \u001b[38;5;66;03m# Do not call functions when jit is used\u001b[39;00m\n\u001b[1;32m   1196\u001b[0m full_backward_hooks, non_full_backward_hooks \u001b[38;5;241m=\u001b[39m [], []\n",
      "Cell \u001b[0;32mIn[71], line 75\u001b[0m, in \u001b[0;36mST_GAT.forward\u001b[0;34m(self, data, device)\u001b[0m\n\u001b[1;32m     73\u001b[0m x \u001b[38;5;241m=\u001b[39m torch\u001b[38;5;241m.\u001b[39mmovedim(x, \u001b[38;5;241m2\u001b[39m, \u001b[38;5;241m0\u001b[39m)\n\u001b[1;32m     74\u001b[0m \u001b[38;5;66;03m# [12, 50, 228] -> [12, 50, 32]\u001b[39;00m\n\u001b[0;32m---> 75\u001b[0m x, _ \u001b[38;5;241m=\u001b[39m \u001b[38;5;28;43mself\u001b[39;49m\u001b[38;5;241;43m.\u001b[39;49m\u001b[43mlstm1\u001b[49m\u001b[43m(\u001b[49m\u001b[43mx\u001b[49m\u001b[43m)\u001b[49m\n\u001b[1;32m     76\u001b[0m \u001b[38;5;66;03m# [12, 50, 32] -> [12, 50, 128]\u001b[39;00m\n\u001b[1;32m     77\u001b[0m x, _ \u001b[38;5;241m=\u001b[39m \u001b[38;5;28mself\u001b[39m\u001b[38;5;241m.\u001b[39mlstm2(x)\n",
      "File \u001b[0;32m~/opt/anaconda3/lib/python3.9/site-packages/torch/nn/modules/module.py:1194\u001b[0m, in \u001b[0;36mModule._call_impl\u001b[0;34m(self, *input, **kwargs)\u001b[0m\n\u001b[1;32m   1190\u001b[0m \u001b[38;5;66;03m# If we don't have any hooks, we want to skip the rest of the logic in\u001b[39;00m\n\u001b[1;32m   1191\u001b[0m \u001b[38;5;66;03m# this function, and just call forward.\u001b[39;00m\n\u001b[1;32m   1192\u001b[0m \u001b[38;5;28;01mif\u001b[39;00m \u001b[38;5;129;01mnot\u001b[39;00m (\u001b[38;5;28mself\u001b[39m\u001b[38;5;241m.\u001b[39m_backward_hooks \u001b[38;5;129;01mor\u001b[39;00m \u001b[38;5;28mself\u001b[39m\u001b[38;5;241m.\u001b[39m_forward_hooks \u001b[38;5;129;01mor\u001b[39;00m \u001b[38;5;28mself\u001b[39m\u001b[38;5;241m.\u001b[39m_forward_pre_hooks \u001b[38;5;129;01mor\u001b[39;00m _global_backward_hooks\n\u001b[1;32m   1193\u001b[0m         \u001b[38;5;129;01mor\u001b[39;00m _global_forward_hooks \u001b[38;5;129;01mor\u001b[39;00m _global_forward_pre_hooks):\n\u001b[0;32m-> 1194\u001b[0m     \u001b[38;5;28;01mreturn\u001b[39;00m \u001b[43mforward_call\u001b[49m\u001b[43m(\u001b[49m\u001b[38;5;241;43m*\u001b[39;49m\u001b[38;5;28;43minput\u001b[39;49m\u001b[43m,\u001b[49m\u001b[43m \u001b[49m\u001b[38;5;241;43m*\u001b[39;49m\u001b[38;5;241;43m*\u001b[39;49m\u001b[43mkwargs\u001b[49m\u001b[43m)\u001b[49m\n\u001b[1;32m   1195\u001b[0m \u001b[38;5;66;03m# Do not call functions when jit is used\u001b[39;00m\n\u001b[1;32m   1196\u001b[0m full_backward_hooks, non_full_backward_hooks \u001b[38;5;241m=\u001b[39m [], []\n",
      "File \u001b[0;32m~/opt/anaconda3/lib/python3.9/site-packages/torch/nn/modules/rnn.py:774\u001b[0m, in \u001b[0;36mLSTM.forward\u001b[0;34m(self, input, hx)\u001b[0m\n\u001b[1;32m    772\u001b[0m \u001b[38;5;28mself\u001b[39m\u001b[38;5;241m.\u001b[39mcheck_forward_args(\u001b[38;5;28minput\u001b[39m, hx, batch_sizes)\n\u001b[1;32m    773\u001b[0m \u001b[38;5;28;01mif\u001b[39;00m batch_sizes \u001b[38;5;129;01mis\u001b[39;00m \u001b[38;5;28;01mNone\u001b[39;00m:\n\u001b[0;32m--> 774\u001b[0m     result \u001b[38;5;241m=\u001b[39m \u001b[43m_VF\u001b[49m\u001b[38;5;241;43m.\u001b[39;49m\u001b[43mlstm\u001b[49m\u001b[43m(\u001b[49m\u001b[38;5;28;43minput\u001b[39;49m\u001b[43m,\u001b[49m\u001b[43m \u001b[49m\u001b[43mhx\u001b[49m\u001b[43m,\u001b[49m\u001b[43m \u001b[49m\u001b[38;5;28;43mself\u001b[39;49m\u001b[38;5;241;43m.\u001b[39;49m\u001b[43m_flat_weights\u001b[49m\u001b[43m,\u001b[49m\u001b[43m \u001b[49m\u001b[38;5;28;43mself\u001b[39;49m\u001b[38;5;241;43m.\u001b[39;49m\u001b[43mbias\u001b[49m\u001b[43m,\u001b[49m\u001b[43m \u001b[49m\u001b[38;5;28;43mself\u001b[39;49m\u001b[38;5;241;43m.\u001b[39;49m\u001b[43mnum_layers\u001b[49m\u001b[43m,\u001b[49m\n\u001b[1;32m    775\u001b[0m \u001b[43m                      \u001b[49m\u001b[38;5;28;43mself\u001b[39;49m\u001b[38;5;241;43m.\u001b[39;49m\u001b[43mdropout\u001b[49m\u001b[43m,\u001b[49m\u001b[43m \u001b[49m\u001b[38;5;28;43mself\u001b[39;49m\u001b[38;5;241;43m.\u001b[39;49m\u001b[43mtraining\u001b[49m\u001b[43m,\u001b[49m\u001b[43m \u001b[49m\u001b[38;5;28;43mself\u001b[39;49m\u001b[38;5;241;43m.\u001b[39;49m\u001b[43mbidirectional\u001b[49m\u001b[43m,\u001b[49m\u001b[43m \u001b[49m\u001b[38;5;28;43mself\u001b[39;49m\u001b[38;5;241;43m.\u001b[39;49m\u001b[43mbatch_first\u001b[49m\u001b[43m)\u001b[49m\n\u001b[1;32m    776\u001b[0m \u001b[38;5;28;01melse\u001b[39;00m:\n\u001b[1;32m    777\u001b[0m     result \u001b[38;5;241m=\u001b[39m _VF\u001b[38;5;241m.\u001b[39mlstm(\u001b[38;5;28minput\u001b[39m, batch_sizes, hx, \u001b[38;5;28mself\u001b[39m\u001b[38;5;241m.\u001b[39m_flat_weights, \u001b[38;5;28mself\u001b[39m\u001b[38;5;241m.\u001b[39mbias,\n\u001b[1;32m    778\u001b[0m                       \u001b[38;5;28mself\u001b[39m\u001b[38;5;241m.\u001b[39mnum_layers, \u001b[38;5;28mself\u001b[39m\u001b[38;5;241m.\u001b[39mdropout, \u001b[38;5;28mself\u001b[39m\u001b[38;5;241m.\u001b[39mtraining, \u001b[38;5;28mself\u001b[39m\u001b[38;5;241m.\u001b[39mbidirectional)\n",
      "\u001b[0;31mKeyboardInterrupt\u001b[0m: "
     ]
    }
   ],
   "source": [
    "model = model_train(train_dataloader, val_dataloader, config, device)"
   ]
  },
  {
   "cell_type": "markdown",
   "id": "7df194c1-5d8c-4013-8e01-13535415fba2",
   "metadata": {
    "tags": []
   },
   "source": [
    "## Test the model"
   ]
  },
  {
   "cell_type": "code",
   "execution_count": 215,
   "id": "708971fd-a566-4d45-8116-12472f8dc224",
   "metadata": {},
   "outputs": [
    {
     "name": "stdout",
     "output_type": "stream",
     "text": [
      "Test, MAE: 3.982363700866699, RMSE: 6.555057048797607, MAPE: 9.798476219177246\n",
      "torch.Size([268])\n"
     ]
    },
    {
     "data": {
      "image/png": "[encoded data removed]",
      "text/plain": [
       "<Figure size 432x288 with 1 Axes>"
      ]
     },
     "metadata": {
      "needs_background": "light"
     },
     "output_type": "display_data"
    }
   ],
   "source": [
    "def plot_prediction(test_dataloader, y_pred, y_truth, node, config):\n",
    "    # Calculate the truth\n",
    "    s = y_truth.shape\n",
    "    y_truth = y_truth.reshape(s[0], config['BATCH_SIZE'], config['N_NODE'], s[-1])\n",
    "    # just get the first prediction out for the nth node\n",
    "    y_truth = y_truth[:, :, node, 0]\n",
    "    # Flatten to get the predictions for entire test dataset\n",
    "    y_truth = torch.flatten(y_truth)\n",
    "    day0_truth = y_truth[:config['N_SLOT']]\n",
    "\n",
    "\n",
    "    # Calculate the predicted\n",
    "    s = y_pred.shape\n",
    "    y_pred = y_pred.reshape(s[0], config['BATCH_SIZE'], config['N_NODE'], s[-1])\n",
    "    # just get the first prediction out for the nth node\n",
    "    y_pred = y_pred[:, :, node, 0]\n",
    "    # Flatten to get the predictions for entire test dataset\n",
    "    y_pred = torch.flatten(y_pred)\n",
    "    # Just grab the first day\n",
    "    day0_pred = y_pred[:config['N_SLOT']]\n",
    "    t = [t for t in range(0, config['N_SLOT']*5, 5)]\n",
    "    plt.plot(t, day0_pred, label='ST-GAT')\n",
    "    plt.plot(t, day0_truth, label='truth')\n",
    "    plt.xlabel('Time (minutes)')\n",
    "    plt.ylabel('Speed prediction')\n",
    "    plt.title('Predictions of traffic over time')\n",
    "    plt.legend()\n",
    "    plt.savefig('predicted_times.png')\n",
    "    plt.show()\n",
    "    \n",
    "_, _, _, y_pred, y_truth = eval(model, device, test_dataloader, 'Test')\n",
    "\n",
    "plot_prediction(test_dataloader, y_pred, y_truth, 0, config)"
   ]
  }
 ],
 "metadata": {
  "kernelspec": {
   "display_name": "Python 3 (ipykernel)",
   "language": "python",
   "name": "python3"
  },
  "language_info": {
   "codemirror_mode": {
    "name": "ipython",
    "version": 3
   },
   "file_extension": ".py",
   "mimetype": "text/x-python",
   "name": "python",
   "nbconvert_exporter": "python",
   "pygments_lexer": "ipython3",
   "version": "3.9.12"
  }
 },
 "nbformat": 4,
 "nbformat_minor": 5
}
