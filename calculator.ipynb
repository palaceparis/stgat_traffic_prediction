{
 "cells": [
  {
   "cell_type": "code",
   "execution_count": 16,
   "id": "37b09f9b-47e4-496e-97ea-288bf49e6d71",
   "metadata": {},
   "outputs": [
    {
     "data": {
      "text/plain": [
       "11792"
      ]
     },
     "execution_count": 16,
     "metadata": {},
     "output_type": "execute_result"
    }
   ],
   "source": [
    "268*44"
   ]
  },
  {
   "cell_type": "code",
   "execution_count": 2,
   "id": "82b22944-44d5-4072-a7ca-043cdee7e7a9",
   "metadata": {},
   "outputs": [
    {
     "data": {
      "text/plain": [
       "12672"
      ]
     },
     "execution_count": 2,
     "metadata": {},
     "output_type": "execute_result"
    }
   ],
   "source": [
    "288*44"
   ]
  },
  {
   "cell_type": "code",
   "execution_count": 3,
   "id": "0c745583-d117-46bf-a66a-64343cae1dc4",
   "metadata": {},
   "outputs": [
    {
     "data": {
      "text/plain": [
       "880"
      ]
     },
     "execution_count": 3,
     "metadata": {},
     "output_type": "execute_result"
    }
   ],
   "source": [
    "12672-11792"
   ]
  },
  {
   "cell_type": "code",
   "execution_count": 4,
   "id": "417e30af-96c6-4786-a3b0-641346d69ce5",
   "metadata": {},
   "outputs": [
    {
     "data": {
      "text/plain": [
       "603.4285714285714"
      ]
     },
     "execution_count": 4,
     "metadata": {},
     "output_type": "execute_result"
    }
   ],
   "source": [
    "12672/21"
   ]
  },
  {
   "cell_type": "code",
   "execution_count": 5,
   "id": "bd0c49ed-b4f1-4082-9704-097eba180d83",
   "metadata": {},
   "outputs": [
    {
     "data": {
      "text/plain": [
       "2688576"
      ]
     },
     "execution_count": 5,
     "metadata": {},
     "output_type": "execute_result"
    }
   ],
   "source": [
    "228*11792"
   ]
  },
  {
   "cell_type": "code",
   "execution_count": 6,
   "id": "b02c4f2a-dbdf-4da9-9c09-28453f0aaa13",
   "metadata": {},
   "outputs": [
    {
     "data": {
      "text/plain": [
       "11400"
      ]
     },
     "execution_count": 6,
     "metadata": {},
     "output_type": "execute_result"
    }
   ],
   "source": [
    "50*228"
   ]
  },
  {
   "cell_type": "code",
   "execution_count": 7,
   "id": "e81eee68-90c6-41d9-9a4a-9a969329bda3",
   "metadata": {},
   "outputs": [
    {
     "data": {
      "text/plain": [
       "1440"
      ]
     },
     "execution_count": 7,
     "metadata": {},
     "output_type": "execute_result"
    }
   ],
   "source": [
    "288*5"
   ]
  },
  {
   "cell_type": "code",
   "execution_count": 3,
   "id": "5f510357-2de0-451d-8376-f4fded184f21",
   "metadata": {},
   "outputs": [],
   "source": [
    "import pandas as pd"
   ]
  },
  {
   "cell_type": "code",
   "execution_count": 11,
   "id": "a6400653-df97-47ac-a4c2-4161150b5065",
   "metadata": {},
   "outputs": [
    {
     "data": {
      "text/plain": [
       "array([['country', 'co2', 'sector', 'date'],\n",
       "       ['Brazil', '96.799', 'Power', '2019-01-01'],\n",
       "       ['China', '14059.676', 'Power', '2019-01-01'],\n",
       "       ...,\n",
       "       ['WORLD', 95681.67903980284, 'Total', '2022-08-29'],\n",
       "       ['WORLD', 99583.49318108408, 'Total', '2022-08-30'],\n",
       "       ['WORLD', 99909.92706897717, 'Total', '2022-08-31']], dtype=object)"
      ]
     },
     "execution_count": 11,
     "metadata": {},
     "output_type": "execute_result"
    }
   ],
   "source": [
    "co2 = pd.read_csv('/Users/tonygong/Downloads/CM_v2022.5.csv', header=None).values\n",
    "co2"
   ]
  },
  {
   "cell_type": "code",
   "execution_count": 1,
   "id": "ccfb5cb3-0734-455a-8c41-c0438b3acda6",
   "metadata": {},
   "outputs": [
    {
     "data": {
      "text/plain": [
       "10032"
      ]
     },
     "execution_count": 1,
     "metadata": {},
     "output_type": "execute_result"
    }
   ],
   "source": [
    "228*44"
   ]
  },
  {
   "cell_type": "code",
   "execution_count": 4,
   "id": "82406444-64ad-4069-9762-aa515bd5d183",
   "metadata": {},
   "outputs": [],
   "source": [
    "temp = pd.read_csv('/Users/tonygong/Documents/GNNs_codes/stgat_traffic_prediction/dataset/PeMSD7_V_228.csv', header=None).values\n"
   ]
  },
  {
   "cell_type": "code",
   "execution_count": 8,
   "id": "554b6a48-c229-4bbd-bad1-14e75a63e9cd",
   "metadata": {},
   "outputs": [
    {
     "data": {
      "text/plain": [
       "array([[71.1, 66. , 64.6, ..., 69.3, 67.7, 68.9],\n",
       "       [68.1, 66.8, 61.7, ..., 67.7, 68.8, 68.8],\n",
       "       [68. , 64.3, 66.6, ..., 70.2, 69.1, 68.7],\n",
       "       ...,\n",
       "       [68.9, 37.9, 68.8, ..., 68.7, 67.5, 19.7],\n",
       "       [69.2, 37.8, 68.7, ..., 67.7, 67.4, 19.5],\n",
       "       [68.6, 52.9, 68.6, ..., 68.1, 68.5, 19.1]])"
      ]
     },
     "execution_count": 8,
     "metadata": {},
     "output_type": "execute_result"
    }
   ],
   "source": [
    "temp.shape\n",
    "temp"
   ]
  },
  {
   "cell_type": "code",
   "execution_count": 15,
   "id": "db21b126-8caf-4d0b-b5f1-b5cd4d53665e",
   "metadata": {},
   "outputs": [
    {
     "data": {
      "text/html": [
       "<div>\n",
       "<style scoped>\n",
       "    .dataframe tbody tr th:only-of-type {\n",
       "        vertical-align: middle;\n",
       "    }\n",
       "\n",
       "    .dataframe tbody tr th {\n",
       "        vertical-align: top;\n",
       "    }\n",
       "\n",
       "    .dataframe thead th {\n",
       "        text-align: right;\n",
       "    }\n",
       "</style>\n",
       "<table border=\"1\" class=\"dataframe\">\n",
       "  <thead>\n",
       "    <tr style=\"text-align: right;\">\n",
       "      <th></th>\n",
       "      <th>0</th>\n",
       "      <th>1</th>\n",
       "      <th>2</th>\n",
       "      <th>3</th>\n",
       "      <th>4</th>\n",
       "      <th>5</th>\n",
       "      <th>6</th>\n",
       "      <th>7</th>\n",
       "      <th>8</th>\n",
       "      <th>9</th>\n",
       "      <th>...</th>\n",
       "      <th>20</th>\n",
       "      <th>21</th>\n",
       "      <th>22</th>\n",
       "      <th>23</th>\n",
       "      <th>24</th>\n",
       "      <th>25</th>\n",
       "      <th>26</th>\n",
       "      <th>27</th>\n",
       "      <th>28</th>\n",
       "      <th>29</th>\n",
       "    </tr>\n",
       "  </thead>\n",
       "  <tbody>\n",
       "    <tr>\n",
       "      <th>0</th>\n",
       "      <td>1.104406</td>\n",
       "      <td>0.450854</td>\n",
       "      <td>0.332158</td>\n",
       "      <td>0.676801</td>\n",
       "      <td>0.564246</td>\n",
       "      <td>1.368663</td>\n",
       "      <td>0.726092</td>\n",
       "      <td>0.699381</td>\n",
       "      <td>0.069893</td>\n",
       "      <td>3.102100</td>\n",
       "      <td>...</td>\n",
       "      <td>0.220124</td>\n",
       "      <td>1.040251</td>\n",
       "      <td>3.265906</td>\n",
       "      <td>0.332567</td>\n",
       "      <td>1.545578</td>\n",
       "      <td>0.782591</td>\n",
       "      <td>0.636382</td>\n",
       "      <td>1.282259</td>\n",
       "      <td>0.763865</td>\n",
       "      <td>1.054753</td>\n",
       "    </tr>\n",
       "    <tr>\n",
       "      <th>1</th>\n",
       "      <td>1.072344</td>\n",
       "      <td>0.429949</td>\n",
       "      <td>0.323327</td>\n",
       "      <td>0.657805</td>\n",
       "      <td>0.544087</td>\n",
       "      <td>1.333536</td>\n",
       "      <td>0.705484</td>\n",
       "      <td>0.679118</td>\n",
       "      <td>0.068174</td>\n",
       "      <td>2.997442</td>\n",
       "      <td>...</td>\n",
       "      <td>0.212283</td>\n",
       "      <td>1.003557</td>\n",
       "      <td>3.149153</td>\n",
       "      <td>0.323498</td>\n",
       "      <td>1.489357</td>\n",
       "      <td>0.762132</td>\n",
       "      <td>0.610205</td>\n",
       "      <td>1.237001</td>\n",
       "      <td>0.742318</td>\n",
       "      <td>1.027300</td>\n",
       "    </tr>\n",
       "    <tr>\n",
       "      <th>2</th>\n",
       "      <td>1.102166</td>\n",
       "      <td>0.426838</td>\n",
       "      <td>0.331921</td>\n",
       "      <td>0.676078</td>\n",
       "      <td>0.553665</td>\n",
       "      <td>1.367998</td>\n",
       "      <td>0.725263</td>\n",
       "      <td>0.698427</td>\n",
       "      <td>0.069877</td>\n",
       "      <td>3.064072</td>\n",
       "      <td>...</td>\n",
       "      <td>0.216221</td>\n",
       "      <td>1.021814</td>\n",
       "      <td>3.201902</td>\n",
       "      <td>0.332275</td>\n",
       "      <td>1.516308</td>\n",
       "      <td>0.782111</td>\n",
       "      <td>0.615827</td>\n",
       "      <td>1.263108</td>\n",
       "      <td>0.762988</td>\n",
       "      <td>1.054147</td>\n",
       "    </tr>\n",
       "    <tr>\n",
       "      <th>3</th>\n",
       "      <td>1.124868</td>\n",
       "      <td>0.422775</td>\n",
       "      <td>0.338576</td>\n",
       "      <td>0.690089</td>\n",
       "      <td>0.560191</td>\n",
       "      <td>1.394865</td>\n",
       "      <td>0.740398</td>\n",
       "      <td>0.713144</td>\n",
       "      <td>0.071216</td>\n",
       "      <td>3.111990</td>\n",
       "      <td>...</td>\n",
       "      <td>0.218931</td>\n",
       "      <td>1.034394</td>\n",
       "      <td>3.237548</td>\n",
       "      <td>0.339041</td>\n",
       "      <td>1.534599</td>\n",
       "      <td>0.797634</td>\n",
       "      <td>0.618550</td>\n",
       "      <td>1.281468</td>\n",
       "      <td>0.778820</td>\n",
       "      <td>1.075022</td>\n",
       "    </tr>\n",
       "    <tr>\n",
       "      <th>4</th>\n",
       "      <td>1.130247</td>\n",
       "      <td>0.439086</td>\n",
       "      <td>0.339879</td>\n",
       "      <td>0.692958</td>\n",
       "      <td>0.568747</td>\n",
       "      <td>1.399962</td>\n",
       "      <td>0.743525</td>\n",
       "      <td>0.716276</td>\n",
       "      <td>0.071460</td>\n",
       "      <td>3.146780</td>\n",
       "      <td>...</td>\n",
       "      <td>0.222135</td>\n",
       "      <td>1.049505</td>\n",
       "      <td>3.288693</td>\n",
       "      <td>0.340393</td>\n",
       "      <td>1.558277</td>\n",
       "      <td>0.800632</td>\n",
       "      <td>0.633505</td>\n",
       "      <td>1.298001</td>\n",
       "      <td>0.782102</td>\n",
       "      <td>1.079030</td>\n",
       "    </tr>\n",
       "    <tr>\n",
       "      <th>...</th>\n",
       "      <td>...</td>\n",
       "      <td>...</td>\n",
       "      <td>...</td>\n",
       "      <td>...</td>\n",
       "      <td>...</td>\n",
       "      <td>...</td>\n",
       "      <td>...</td>\n",
       "      <td>...</td>\n",
       "      <td>...</td>\n",
       "      <td>...</td>\n",
       "      <td>...</td>\n",
       "      <td>...</td>\n",
       "      <td>...</td>\n",
       "      <td>...</td>\n",
       "      <td>...</td>\n",
       "      <td>...</td>\n",
       "      <td>...</td>\n",
       "      <td>...</td>\n",
       "      <td>...</td>\n",
       "      <td>...</td>\n",
       "      <td>...</td>\n",
       "    </tr>\n",
       "    <tr>\n",
       "      <th>725</th>\n",
       "      <td>1.186461</td>\n",
       "      <td>0.441110</td>\n",
       "      <td>0.358208</td>\n",
       "      <td>0.617460</td>\n",
       "      <td>0.539352</td>\n",
       "      <td>1.445898</td>\n",
       "      <td>0.806648</td>\n",
       "      <td>0.625851</td>\n",
       "      <td>0.076384</td>\n",
       "      <td>2.867818</td>\n",
       "      <td>...</td>\n",
       "      <td>0.212174</td>\n",
       "      <td>1.065959</td>\n",
       "      <td>3.226808</td>\n",
       "      <td>0.326983</td>\n",
       "      <td>1.593558</td>\n",
       "      <td>0.842341</td>\n",
       "      <td>0.624870</td>\n",
       "      <td>1.264532</td>\n",
       "      <td>0.681648</td>\n",
       "      <td>1.131461</td>\n",
       "    </tr>\n",
       "    <tr>\n",
       "      <th>726</th>\n",
       "      <td>1.196684</td>\n",
       "      <td>0.448208</td>\n",
       "      <td>0.361068</td>\n",
       "      <td>0.622511</td>\n",
       "      <td>0.545311</td>\n",
       "      <td>1.457106</td>\n",
       "      <td>0.813441</td>\n",
       "      <td>0.631114</td>\n",
       "      <td>0.076961</td>\n",
       "      <td>2.897319</td>\n",
       "      <td>...</td>\n",
       "      <td>0.214414</td>\n",
       "      <td>1.077317</td>\n",
       "      <td>3.262270</td>\n",
       "      <td>0.329619</td>\n",
       "      <td>1.611265</td>\n",
       "      <td>0.848984</td>\n",
       "      <td>0.633161</td>\n",
       "      <td>1.278008</td>\n",
       "      <td>0.687242</td>\n",
       "      <td>1.140390</td>\n",
       "    </tr>\n",
       "    <tr>\n",
       "      <th>727</th>\n",
       "      <td>1.212896</td>\n",
       "      <td>0.452960</td>\n",
       "      <td>0.365990</td>\n",
       "      <td>0.630989</td>\n",
       "      <td>0.552209</td>\n",
       "      <td>1.476995</td>\n",
       "      <td>0.824508</td>\n",
       "      <td>0.639697</td>\n",
       "      <td>0.078012</td>\n",
       "      <td>2.934893</td>\n",
       "      <td>...</td>\n",
       "      <td>0.217173</td>\n",
       "      <td>1.091117</td>\n",
       "      <td>3.303554</td>\n",
       "      <td>0.334111</td>\n",
       "      <td>1.631717</td>\n",
       "      <td>0.860562</td>\n",
       "      <td>0.640672</td>\n",
       "      <td>1.294485</td>\n",
       "      <td>0.696597</td>\n",
       "      <td>1.155932</td>\n",
       "    </tr>\n",
       "    <tr>\n",
       "      <th>728</th>\n",
       "      <td>1.206869</td>\n",
       "      <td>0.441959</td>\n",
       "      <td>0.363802</td>\n",
       "      <td>0.627546</td>\n",
       "      <td>0.546581</td>\n",
       "      <td>1.467223</td>\n",
       "      <td>0.820544</td>\n",
       "      <td>0.636559</td>\n",
       "      <td>0.077453</td>\n",
       "      <td>2.911451</td>\n",
       "      <td>...</td>\n",
       "      <td>0.215298</td>\n",
       "      <td>1.081128</td>\n",
       "      <td>3.269427</td>\n",
       "      <td>0.332179</td>\n",
       "      <td>1.616510</td>\n",
       "      <td>0.855185</td>\n",
       "      <td>0.631359</td>\n",
       "      <td>1.284346</td>\n",
       "      <td>0.692801</td>\n",
       "      <td>1.148535</td>\n",
       "    </tr>\n",
       "    <tr>\n",
       "      <th>729</th>\n",
       "      <td>1.176674</td>\n",
       "      <td>0.424388</td>\n",
       "      <td>0.355032</td>\n",
       "      <td>0.612257</td>\n",
       "      <td>0.530384</td>\n",
       "      <td>1.432303</td>\n",
       "      <td>0.800289</td>\n",
       "      <td>0.620853</td>\n",
       "      <td>0.075631</td>\n",
       "      <td>2.829608</td>\n",
       "      <td>...</td>\n",
       "      <td>0.209134</td>\n",
       "      <td>1.049927</td>\n",
       "      <td>3.172812</td>\n",
       "      <td>0.324140</td>\n",
       "      <td>1.568621</td>\n",
       "      <td>0.834682</td>\n",
       "      <td>0.610009</td>\n",
       "      <td>1.247483</td>\n",
       "      <td>0.675892</td>\n",
       "      <td>1.120966</td>\n",
       "    </tr>\n",
       "  </tbody>\n",
       "</table>\n",
       "<p>730 rows × 30 columns</p>\n",
       "</div>"
      ],
      "text/plain": [
       "           0         1         2         3         4         5         6   \\\n",
       "0    1.104406  0.450854  0.332158  0.676801  0.564246  1.368663  0.726092   \n",
       "1    1.072344  0.429949  0.323327  0.657805  0.544087  1.333536  0.705484   \n",
       "2    1.102166  0.426838  0.331921  0.676078  0.553665  1.367998  0.725263   \n",
       "3    1.124868  0.422775  0.338576  0.690089  0.560191  1.394865  0.740398   \n",
       "4    1.130247  0.439086  0.339879  0.692958  0.568747  1.399962  0.743525   \n",
       "..        ...       ...       ...       ...       ...       ...       ...   \n",
       "725  1.186461  0.441110  0.358208  0.617460  0.539352  1.445898  0.806648   \n",
       "726  1.196684  0.448208  0.361068  0.622511  0.545311  1.457106  0.813441   \n",
       "727  1.212896  0.452960  0.365990  0.630989  0.552209  1.476995  0.824508   \n",
       "728  1.206869  0.441959  0.363802  0.627546  0.546581  1.467223  0.820544   \n",
       "729  1.176674  0.424388  0.355032  0.612257  0.530384  1.432303  0.800289   \n",
       "\n",
       "           7         8         9   ...        20        21        22  \\\n",
       "0    0.699381  0.069893  3.102100  ...  0.220124  1.040251  3.265906   \n",
       "1    0.679118  0.068174  2.997442  ...  0.212283  1.003557  3.149153   \n",
       "2    0.698427  0.069877  3.064072  ...  0.216221  1.021814  3.201902   \n",
       "3    0.713144  0.071216  3.111990  ...  0.218931  1.034394  3.237548   \n",
       "4    0.716276  0.071460  3.146780  ...  0.222135  1.049505  3.288693   \n",
       "..        ...       ...       ...  ...       ...       ...       ...   \n",
       "725  0.625851  0.076384  2.867818  ...  0.212174  1.065959  3.226808   \n",
       "726  0.631114  0.076961  2.897319  ...  0.214414  1.077317  3.262270   \n",
       "727  0.639697  0.078012  2.934893  ...  0.217173  1.091117  3.303554   \n",
       "728  0.636559  0.077453  2.911451  ...  0.215298  1.081128  3.269427   \n",
       "729  0.620853  0.075631  2.829608  ...  0.209134  1.049927  3.172812   \n",
       "\n",
       "           23        24        25        26        27        28        29  \n",
       "0    0.332567  1.545578  0.782591  0.636382  1.282259  0.763865  1.054753  \n",
       "1    0.323498  1.489357  0.762132  0.610205  1.237001  0.742318  1.027300  \n",
       "2    0.332275  1.516308  0.782111  0.615827  1.263108  0.762988  1.054147  \n",
       "3    0.339041  1.534599  0.797634  0.618550  1.281468  0.778820  1.075022  \n",
       "4    0.340393  1.558277  0.800632  0.633505  1.298001  0.782102  1.079030  \n",
       "..        ...       ...       ...       ...       ...       ...       ...  \n",
       "725  0.326983  1.593558  0.842341  0.624870  1.264532  0.681648  1.131461  \n",
       "726  0.329619  1.611265  0.848984  0.633161  1.278008  0.687242  1.140390  \n",
       "727  0.334111  1.631717  0.860562  0.640672  1.294485  0.696597  1.155932  \n",
       "728  0.332179  1.616510  0.855185  0.631359  1.284346  0.692801  1.148535  \n",
       "729  0.324140  1.568621  0.834682  0.610009  1.247483  0.675892  1.120966  \n",
       "\n",
       "[730 rows x 30 columns]"
      ]
     },
     "execution_count": 15,
     "metadata": {},
     "output_type": "execute_result"
    }
   ],
   "source": [
    "temp1 = pd.read_csv('/Users/tonygong/Documents/GNNs_codes/dailyCo2/python/dataset/provinces.csv', header=None)\n",
    "temp1"
   ]
  },
  {
   "cell_type": "code",
   "execution_count": 24,
   "id": "2d588439-8150-40cc-8276-459910d2f591",
   "metadata": {},
   "outputs": [
    {
     "data": {
      "text/plain": [
       "1440"
      ]
     },
     "execution_count": 24,
     "metadata": {},
     "output_type": "execute_result"
    }
   ],
   "source": [
    "5*288"
   ]
  },
  {
   "cell_type": "code",
   "execution_count": 25,
   "id": "a736cb23-19d8-47e7-83e8-f32790448523",
   "metadata": {},
   "outputs": [
    {
     "data": {
      "text/plain": [
       "1340"
      ]
     },
     "execution_count": 25,
     "metadata": {},
     "output_type": "execute_result"
    }
   ],
   "source": [
    "268*5"
   ]
  },
  {
   "cell_type": "code",
   "execution_count": 26,
   "id": "e24337fd-112b-475f-b4cc-76763c778efd",
   "metadata": {},
   "outputs": [
    {
     "data": {
      "text/plain": [
       "67000"
      ]
     },
     "execution_count": 26,
     "metadata": {},
     "output_type": "execute_result"
    }
   ],
   "source": [
    "50*1340"
   ]
  },
  {
   "cell_type": "code",
   "execution_count": 28,
   "id": "7ba30c54-9b2b-42c5-b92f-dcb89cc277d1",
   "metadata": {},
   "outputs": [
    {
     "data": {
      "text/plain": [
       "9120"
      ]
     },
     "execution_count": 28,
     "metadata": {},
     "output_type": "execute_result"
    }
   ],
   "source": [
    "40*228"
   ]
  },
  {
   "cell_type": "code",
   "execution_count": 29,
   "id": "43cec97e-6b2f-4025-8a2c-3dae543cd1d1",
   "metadata": {},
   "outputs": [
    {
     "data": {
      "text/plain": [
       "1300"
      ]
     },
     "execution_count": 29,
     "metadata": {},
     "output_type": "execute_result"
    }
   ],
   "source": [
    "40"
   ]
  }
 ],
 "metadata": {
  "kernelspec": {
   "display_name": "Python 3 (ipykernel)",
   "language": "python",
   "name": "python3"
  },
  "language_info": {
   "codemirror_mode": {
    "name": "ipython",
    "version": 3
   },
   "file_extension": ".py",
   "mimetype": "text/x-python",
   "name": "python",
   "nbconvert_exporter": "python",
   "pygments_lexer": "ipython3",
   "version": "3.9.12"
  }
 },
 "nbformat": 4,
 "nbformat_minor": 5
}
